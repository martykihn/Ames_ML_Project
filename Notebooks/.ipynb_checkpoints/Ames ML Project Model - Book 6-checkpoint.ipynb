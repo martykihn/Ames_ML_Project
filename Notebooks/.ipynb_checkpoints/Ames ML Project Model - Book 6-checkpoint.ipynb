{
 "cells": [
  {
   "cell_type": "markdown",
   "metadata": {},
   "source": [
    "## Ames Housing Dataset - ML Project - Martin Kihn / NYCDSA - January 2021\n",
    "## Ames ML Project Model - Notebook #6"
   ]
  },
  {
   "cell_type": "code",
   "execution_count": 1,
   "metadata": {},
   "outputs": [],
   "source": [
    "# This notebook steps through features ranked by importance (see book 5)\n",
    "# to select the final set of features for the MLR model\n",
    "# Once we get coefficients, we can then reset them for the app.\n",
    "\n",
    "import numpy as np\n",
    "import pandas as pd\n",
    "pd.set_option('display.max_columns', 100)\n",
    "pd.set_option('display.max_rows', 2000)\n",
    "\n",
    "import matplotlib.pyplot as plt\n",
    "%matplotlib inline\n",
    "\n",
    "import seaborn as sns\n",
    "sns.set_style('darkgrid')\n",
    "\n",
    "path_to_train = '~/Desktop/Ames_ML_Project/Data/sorted_df_01_24.csv'\n",
    "path_to_target_log = '~/Desktop/Ames_ML_Project/Data/target_log_01_24.csv'\n",
    "\n",
    "df_train = pd.read_csv(path_to_train, index_col = False)\n",
    "df_train.drop('Unnamed: 0', axis=1, inplace=True)\n",
    "target_log = pd.read_csv(path_to_target_log, index_col=False)\n",
    "target_log.drop('Unnamed: 0', axis=1, inplace=True)"
   ]
  },
  {
   "cell_type": "code",
   "execution_count": 2,
   "metadata": {},
   "outputs": [],
   "source": [
    "target_log = target_log['0'].tolist()"
   ]
  },
  {
   "cell_type": "code",
   "execution_count": 3,
   "metadata": {},
   "outputs": [],
   "source": [
    "from sklearn import linear_model\n",
    "mlr = linear_model.LinearRegression()"
   ]
  },
  {
   "cell_type": "code",
   "execution_count": 12,
   "metadata": {},
   "outputs": [
    {
     "data": {
      "text/plain": [
       "LinearRegression()"
      ]
     },
     "execution_count": 12,
     "metadata": {},
     "output_type": "execute_result"
    }
   ],
   "source": [
    "mlr.fit(df_train, target_log)"
   ]
  },
  {
   "cell_type": "code",
   "execution_count": 13,
   "metadata": {},
   "outputs": [
    {
     "name": "stdout",
     "output_type": "stream",
     "text": [
      "RSS: 137.46\n"
     ]
    }
   ],
   "source": [
    "print('RSS: %.2f' % np.sum((target_log - mlr.predict(df_train)) **2))"
   ]
  },
  {
   "cell_type": "code",
   "execution_count": 17,
   "metadata": {},
   "outputs": [
    {
     "name": "stdout",
     "output_type": "stream",
     "text": [
      "R2: 0.90\n"
     ]
    }
   ],
   "source": [
    "print('R2: %.2f' % mlr.score(df_train, target_log))"
   ]
  },
  {
   "cell_type": "code",
   "execution_count": 10,
   "metadata": {},
   "outputs": [],
   "source": [
    "# to make it easier to type: changing var names\n",
    "X = df_train.copy()"
   ]
  },
  {
   "cell_type": "code",
   "execution_count": 11,
   "metadata": {},
   "outputs": [],
   "source": [
    "from sklearn.model_selection import train_test_split\n",
    "X_train, X_test, y_train, y_test = \\\n",
    "train_test_split(X, target_log, test_size=0.3, random_state=42)"
   ]
  },
  {
   "cell_type": "code",
   "execution_count": 12,
   "metadata": {},
   "outputs": [],
   "source": [
    "import warnings\n",
    "warnings.filterwarnings('ignore')"
   ]
  },
  {
   "cell_type": "code",
   "execution_count": 26,
   "metadata": {},
   "outputs": [
    {
     "name": "stdout",
     "output_type": "stream",
     "text": [
      "R2 for train set: 0.914421\n",
      "--------------------------------------------------\n",
      "R2 for test set: 0.860219\n"
     ]
    }
   ],
   "source": [
    "mlr.fit(X_train, y_train)\n",
    "print('R2 for train set: %f' %mlr.score(X_train, y_train))\n",
    "print('-'*50)\n",
    "print('R2 for test set: %f' %mlr.score(X_test, y_test))"
   ]
  },
  {
   "cell_type": "code",
   "execution_count": 13,
   "metadata": {},
   "outputs": [
    {
     "name": "stdout",
     "output_type": "stream",
     "text": [
      "                            OLS Regression Results                            \n",
      "==============================================================================\n",
      "Dep. Variable:                      y   R-squared:                       0.915\n",
      "Model:                            OLS   Adj. R-squared:                  0.909\n",
      "Method:                 Least Squares   F-statistic:                     151.8\n",
      "Date:                Sun, 24 Jan 2021   Prob (F-statistic):               0.00\n",
      "Time:                        18:07:11   Log-Likelihood:                -178.33\n",
      "No. Observations:                 972   AIC:                             486.7\n",
      "Df Residuals:                     907   BIC:                             803.8\n",
      "Df Model:                          64                                         \n",
      "Covariance Type:            nonrobust                                         \n",
      "=====================================================================================\n",
      "                        coef    std err          t      P>|t|      [0.025      0.975]\n",
      "-------------------------------------------------------------------------------------\n",
      "const                 0.2176      0.058      3.761      0.000       0.104       0.331\n",
      "GrLivArea             0.3128      0.031     10.135      0.000       0.252       0.373\n",
      "OverallQual           0.2058      0.020     10.222      0.000       0.166       0.245\n",
      "NeighType_4           0.2009      0.102      1.973      0.049       0.001       0.401\n",
      "YearBuilt             0.0847      0.014      6.046      0.000       0.057       0.112\n",
      "Baths                 0.0362      0.017      2.071      0.039       0.002       0.070\n",
      "BsmtQual_Avg         -1.5827      0.387     -4.093      0.000      -2.342      -0.824\n",
      "GarageArea            0.2181      0.059      3.694      0.000       0.102       0.334\n",
      "YearRemodAdd          0.0843      0.014      6.149      0.000       0.057       0.111\n",
      "NeighType_1          -0.2115      0.107     -1.986      0.047      -0.421      -0.002\n",
      "Fireplaces            0.0579      0.013      4.573      0.000       0.033       0.083\n",
      "TotalBsmtSF           0.3227      0.065      4.959      0.000       0.195       0.450\n",
      "Foundation_PConc      0.1446      0.031      4.664      0.000       0.084       0.206\n",
      "KitchenQual_Gd        0.1206      0.033      3.652      0.000       0.056       0.185\n",
      "Exterior_BrkComm     -0.7687      0.195     -3.945      0.000      -1.151      -0.386\n",
      "TotRmsAbvGrd          0.0211      0.020      1.045      0.296      -0.019       0.061\n",
      "ExterQual_Avg         0.0420      0.038      1.111      0.267      -0.032       0.116\n",
      "BsmtFinSF             0.2079      0.058      3.583      0.000       0.094       0.322\n",
      "CentralAir_Yes        0.1084      0.053      2.028      0.043       0.004       0.213\n",
      "KitchenQual_Avg       0.0970      0.033      2.897      0.004       0.031       0.163\n",
      "NeighType_2          -0.1490      0.105     -1.419      0.156      -0.355       0.057\n",
      "BsmtExposure_Yes      0.0718      0.024      2.981      0.003       0.025       0.119\n",
      "MSZoning_Oth          0.0656      0.035      1.870      0.062      -0.003       0.134\n",
      "LotFrontage           0.0389      0.014      2.743      0.006       0.011       0.067\n",
      "ExterQual_Ex          0.1561      0.046      3.385      0.001       0.066       0.247\n",
      "MasVnrArea            0.0205      0.015      1.410      0.159      -0.008       0.049\n",
      "WoodDeckSF            0.0221      0.011      1.984      0.048       0.000       0.044\n",
      "RoadRail_Yes         -0.1355      0.030     -4.464      0.000      -0.195      -0.076\n",
      "ExterQual_Gd          0.0194      0.030      0.650      0.516      -0.039       0.078\n",
      "BsmtFinType1_GLQ      0.0131      0.034      0.384      0.701      -0.054       0.080\n",
      "Exterior_VinylSd      0.1346      0.038      3.550      0.000       0.060       0.209\n",
      "HeatingQC_Avg         0.1005      0.031      3.192      0.001       0.039       0.162\n",
      "MSZoning_RL           0.1520      0.031      4.897      0.000       0.091       0.213\n",
      "HeatingQC_Gd          0.1171      0.032      3.635      0.000       0.054       0.180\n",
      "OpenPorchSF          -0.0045      0.011     -0.411      0.681      -0.026       0.017\n",
      "GarageType_Oth       -0.1651      0.082     -2.003      0.045      -0.327      -0.003\n",
      "LotShape_IR2          0.1422      0.055      2.588      0.010       0.034       0.250\n",
      "Foundation_CBlock     0.0208      0.029      0.712      0.476      -0.037       0.078\n",
      "PavedDrive_Yes        0.1002      0.047      2.146      0.032       0.009       0.192\n",
      "Foundation_Oth        0.0521      0.033      1.559      0.119      -0.013       0.118\n",
      "MasVnrType_Oth       -0.0074      0.044     -0.169      0.866      -0.093       0.078\n",
      "BldgType_1Fam         0.1705      0.034      5.014      0.000       0.104       0.237\n",
      "GarageType_Attchd    -0.1559      0.080     -1.952      0.051      -0.313       0.001\n",
      "Electrical_Yes       -0.0318      0.041     -0.771      0.441      -0.113       0.049\n",
      "2Story_Y             -0.0359      0.043     -0.841      0.401      -0.120       0.048\n",
      "Age                  -0.0331      0.012     -2.743      0.006      -0.057      -0.009\n",
      "BsmtQual_Gd          -1.6135      0.388     -4.162      0.000      -2.374      -0.853\n",
      "LotShape_IR1         -0.0021      0.038     -0.056      0.955      -0.077       0.072\n",
      "LotShape_Reg         -0.0160      0.037     -0.428      0.669      -0.090       0.057\n",
      "BldgType_Oth          0.0471      0.034      1.386      0.166      -0.020       0.114\n",
      "NeighType_3          -0.0101      0.101     -0.100      0.920      -0.208       0.188\n",
      "RoofStyle_Oth         0.1254      0.032      3.970      0.000       0.063       0.187\n",
      "Fence_Yes            -0.0046      0.028     -0.164      0.869      -0.059       0.050\n",
      "RoofStyle_Gable       0.0922      0.032      2.872      0.004       0.029       0.155\n",
      "OverallCond           0.1322      0.015      9.037      0.000       0.103       0.161\n",
      "BsmtFinType1_LwQ     -0.0961      0.045     -2.138      0.033      -0.184      -0.008\n",
      "ExterCond_Gd          0.0958      0.104      0.924      0.356      -0.108       0.299\n",
      "LotShape_IR3          0.0935      0.092      1.020      0.308      -0.087       0.274\n",
      "MasVnrType_Brick     -0.0374      0.032     -1.165      0.244      -0.100       0.026\n",
      "BsmtFinType1_BLQ     -0.0125      0.036     -0.343      0.731      -0.084       0.059\n",
      "Exterior_CemntBd      0.1349      0.055      2.465      0.014       0.027       0.242\n",
      "BsmtFinType1_Rec      0.0300      0.039      0.770      0.441      -0.046       0.106\n",
      "ExterCond_Avg         0.1461      0.103      1.418      0.156      -0.056       0.348\n",
      "BsmtFinType1_ALQ     -0.0013      0.034     -0.038      0.970      -0.067       0.065\n",
      "Exterior_HdBoard      0.0857      0.040      2.134      0.033       0.007       0.164\n",
      "Exterior_Wd Sdng      0.1385      0.041      3.379      0.001       0.058       0.219\n",
      "GarageType_None       0.5385      0.167      3.220      0.001       0.210       0.867\n",
      "BedroomAbvGr         -0.0036      0.012     -0.303      0.762      -0.027       0.020\n",
      "LandSlope_Oth         0.1471      0.040      3.655      0.000       0.068       0.226\n",
      "LandSlope_Gtl         0.0705      0.038      1.851      0.064      -0.004       0.145\n",
      "LotConfig_Oth         0.1100      0.031      3.529      0.000       0.049       0.171\n",
      "LotConfig_Inside      0.1076      0.031      3.440      0.001       0.046       0.169\n",
      "Exterior_Other        0.1813      0.040      4.588      0.000       0.104       0.259\n",
      "BsmtFinType1_None     0.2844      0.099      2.865      0.004       0.090       0.479\n",
      "MoSold               -0.0044      0.010     -0.438      0.661      -0.024       0.015\n",
      "YrSold               -0.0192      0.010     -1.873      0.061      -0.039       0.001\n",
      "Exterior_MetalSd      0.1802      0.039      4.642      0.000       0.104       0.256\n",
      "ExterCond_Ex         -0.0243      0.215     -0.113      0.910      -0.447       0.398\n",
      "Exterior_WdShing      0.1311      0.079      1.660      0.097      -0.024       0.286\n",
      "LandContour_Oth       0.1245      0.035      3.553      0.000       0.056       0.193\n",
      "LandContour_Lvl       0.0931      0.035      2.670      0.008       0.025       0.162\n",
      "==============================================================================\n",
      "Omnibus:                      270.628   Durbin-Watson:                   2.065\n",
      "Prob(Omnibus):                  0.000   Jarque-Bera (JB):             3096.852\n",
      "Skew:                          -0.931   Prob(JB):                         0.00\n",
      "Kurtosis:                      11.544   Cond. No.                     2.47e+16\n",
      "==============================================================================\n",
      "\n",
      "Warnings:\n",
      "[1] Standard Errors assume that the covariance matrix of the errors is correctly specified.\n",
      "[2] The smallest eigenvalue is 2.13e-29. This might indicate that there are\n",
      "strong multicollinearity problems or that the design matrix is singular.\n"
     ]
    }
   ],
   "source": [
    "import statsmodels.api as sm\n",
    "X_add_const = sm.add_constant(X_train)\n",
    "ols = sm.OLS(y_train, X_add_const)\n",
    "ans = ols.fit()\n",
    "print(ans.summary())"
   ]
  },
  {
   "cell_type": "code",
   "execution_count": 16,
   "metadata": {},
   "outputs": [],
   "source": [
    "# obviously high multicollinearity\n",
    "X2 = X.copy()"
   ]
  },
  {
   "cell_type": "code",
   "execution_count": 17,
   "metadata": {},
   "outputs": [],
   "source": [
    "cat_vars = X2.select_dtypes(include='int64')\n",
    "num_vars = X2.select_dtypes(include='float64')"
   ]
  },
  {
   "cell_type": "code",
   "execution_count": 18,
   "metadata": {},
   "outputs": [
    {
     "data": {
      "text/plain": [
       "((1389, 61), (1389, 19))"
      ]
     },
     "execution_count": 18,
     "metadata": {},
     "output_type": "execute_result"
    }
   ],
   "source": [
    "cat_vars.shape, num_vars.shape"
   ]
  },
  {
   "cell_type": "code",
   "execution_count": 19,
   "metadata": {},
   "outputs": [],
   "source": [
    "# look at R2 of continuous features\n",
    "scores = {}\n",
    "mlr2 = linear_model.LinearRegression()\n",
    "num_features = num_vars.columns\n",
    "from sklearn.metrics import r2_score, mean_squared_error\n",
    "for feature_name in num_features:\n",
    "    X3 = X2.copy()\n",
    "    feature = X3[feature_name].copy()\n",
    "    X3.drop(feature_name, axis=1, inplace=True)\n",
    "    mlr2.fit(X3, feature)\n",
    "    scores[feature_name] = mlr2.score(X3, feature)"
   ]
  },
  {
   "cell_type": "code",
   "execution_count": 41,
   "metadata": {},
   "outputs": [
    {
     "data": {
      "text/plain": [
       "Text(0.5, 1.0, '$R^2$ of continuous features vs. others')"
      ]
     },
     "execution_count": 41,
     "metadata": {},
     "output_type": "execute_result"
    },
    {
     "data": {
      "image/png": "[encoded data removed]",
      "text/plain": [
       "<Figure size 432x288 with 1 Axes>"
      ]
     },
     "metadata": {},
     "output_type": "display_data"
    }
   ],
   "source": [
    "sns.barplot(x='index', y='R2', data=pd.DataFrame(scores, index=['R2']).T.reset_index())\n",
    "plt.title('$R^2$ of continuous features vs. others')"
   ]
  },
  {
   "cell_type": "code",
   "execution_count": 53,
   "metadata": {},
   "outputs": [
    {
     "data": {
      "text/plain": [
       "{'GrLivArea': 0.8929049033456535,\n",
       " 'OverallQual': 0.7651197331932693,\n",
       " 'YearBuilt': 1.0,\n",
       " 'Baths': 0.6960544971410362,\n",
       " 'GarageArea': 0.9737518994493247,\n",
       " 'YearRemodAdd': 1.0,\n",
       " 'Fireplaces': 0.38071679537561975,\n",
       " 'TotalBsmtSF': 0.9738287645573486,\n",
       " 'TotRmsAbvGrd': 0.775651567850093,\n",
       " 'BsmtFinSF': 0.9737148919426533,\n",
       " 'LotFrontage': 0.4813654907826532,\n",
       " 'MasVnrArea': 0.5978509856225276,\n",
       " 'WoodDeckSF': 0.19586547803208532,\n",
       " 'OpenPorchSF': 0.21747361336577198,\n",
       " 'Age': 1.0,\n",
       " 'OverallCond': 0.5485547834031607,\n",
       " 'BedroomAbvGr': 0.31425894377350816,\n",
       " 'MoSold': 0.05661615178453072,\n",
       " 'YrSold': 0.080381470967262}"
      ]
     },
     "execution_count": 53,
     "metadata": {},
     "output_type": "execute_result"
    }
   ],
   "source": [
    "scores"
   ]
  },
  {
   "cell_type": "code",
   "execution_count": 58,
   "metadata": {},
   "outputs": [],
   "source": [
    "col_lis = list(scores.keys())"
   ]
  },
  {
   "cell_type": "code",
   "execution_count": 59,
   "metadata": {},
   "outputs": [
    {
     "data": {
      "text/plain": [
       "['GrLivArea',\n",
       " 'OverallQual',\n",
       " 'YearBuilt',\n",
       " 'Baths',\n",
       " 'GarageArea',\n",
       " 'YearRemodAdd',\n",
       " 'Fireplaces',\n",
       " 'TotalBsmtSF',\n",
       " 'TotRmsAbvGrd',\n",
       " 'BsmtFinSF',\n",
       " 'LotFrontage',\n",
       " 'MasVnrArea',\n",
       " 'WoodDeckSF',\n",
       " 'OpenPorchSF',\n",
       " 'Age',\n",
       " 'OverallCond',\n",
       " 'BedroomAbvGr',\n",
       " 'MoSold',\n",
       " 'YrSold']"
      ]
     },
     "execution_count": 59,
     "metadata": {},
     "output_type": "execute_result"
    }
   ],
   "source": [
    "col_lis"
   ]
  },
  {
   "cell_type": "code",
   "execution_count": 60,
   "metadata": {},
   "outputs": [],
   "source": [
    "scores_df = pd.DataFrame.from_dict(scores, orient='index', columns=['Values'])"
   ]
  },
  {
   "cell_type": "code",
   "execution_count": 70,
   "metadata": {},
   "outputs": [],
   "source": [
    "scores_df = scores_df.sort_values(by='Values', ascending=True)"
   ]
  },
  {
   "cell_type": "code",
   "execution_count": 71,
   "metadata": {},
   "outputs": [
    {
     "data": {
      "text/plain": [
       "<matplotlib.axes._subplots.AxesSubplot at 0x7ff70cbc2d60>"
      ]
     },
     "execution_count": 71,
     "metadata": {},
     "output_type": "execute_result"
    },
    {
     "data": {
      "image/png": "[encoded data removed]",
      "text/plain": [
       "<Figure size 432x288 with 1 Axes>"
      ]
     },
     "metadata": {},
     "output_type": "display_data"
    }
   ],
   "source": [
    "scores_df.plot(kind = 'barh', title = \"Correlation of Vars\")"
   ]
  },
  {
   "cell_type": "code",
   "execution_count": 72,
   "metadata": {},
   "outputs": [
    {
     "name": "stdout",
     "output_type": "stream",
     "text": [
      "0.29986915015938914\n"
     ]
    }
   ],
   "source": [
    "# Obviously I need to drop YearBuilt and Age - dupes of YearRemodAdd\n",
    "# Basement numbers are suspicous also\n",
    "col1 = X['BsmtFinSF']\n",
    "col2 = X['TotalBsmtSF']\n",
    "correlation = col1.corr(col2)\n",
    "print(correlation)"
   ]
  },
  {
   "cell_type": "code",
   "execution_count": 73,
   "metadata": {},
   "outputs": [],
   "source": [
    "# okay so they're not correlated -- it's a total size issue again"
   ]
  },
  {
   "cell_type": "code",
   "execution_count": 20,
   "metadata": {},
   "outputs": [],
   "source": [
    "X = X2\n",
    "X = X.drop(['Age', 'YearBuilt'], axis=1)"
   ]
  },
  {
   "cell_type": "code",
   "execution_count": 82,
   "metadata": {},
   "outputs": [],
   "source": [
    "path_to_write = '~/Desktop/Ames_ML_Project/Data/sorted_df_01_24_rev.csv'\n",
    "X.to_csv(path_to_write)"
   ]
  },
  {
   "cell_type": "code",
   "execution_count": 21,
   "metadata": {},
   "outputs": [],
   "source": [
    "# redo the train and test splits\n",
    "X_train, X_test, y_train, y_test = \\\n",
    "train_test_split(X, target_log, test_size=0.3, random_state=42)"
   ]
  },
  {
   "cell_type": "code",
   "execution_count": 22,
   "metadata": {},
   "outputs": [
    {
     "name": "stdout",
     "output_type": "stream",
     "text": [
      "R2 for train set: 0.912560\n",
      "--------------------------------------------------\n",
      "R2 for test set: 0.862654\n"
     ]
    }
   ],
   "source": [
    "ols = linear_model.LinearRegression()\n",
    "ols.fit(X_train, y_train)\n",
    "print('R2 for train set: %f' %ols.score(X_train, y_train))\n",
    "print('-'*50)\n",
    "print('R2 for test set: %f' %ols.score(X_test, y_test))"
   ]
  },
  {
   "cell_type": "code",
   "execution_count": 89,
   "metadata": {},
   "outputs": [
    {
     "data": {
      "text/html": [
       "<table class=\"simpletable\">\n",
       "<tr>\n",
       "          <td></td>             <th>coef</th>     <th>std err</th>      <th>t</th>      <th>P>|t|</th>  <th>[0.025</th>    <th>0.975]</th>  \n",
       "</tr>\n",
       "<tr>\n",
       "  <th>const</th>             <td>    0.2173</td> <td>    0.059</td> <td>    3.714</td> <td> 0.000</td> <td>    0.102</td> <td>    0.332</td>\n",
       "</tr>\n",
       "<tr>\n",
       "  <th>GrLivArea</th>         <td>    0.2853</td> <td>    0.031</td> <td>    9.312</td> <td> 0.000</td> <td>    0.225</td> <td>    0.345</td>\n",
       "</tr>\n",
       "<tr>\n",
       "  <th>OverallQual</th>       <td>    0.2101</td> <td>    0.020</td> <td>   10.331</td> <td> 0.000</td> <td>    0.170</td> <td>    0.250</td>\n",
       "</tr>\n",
       "<tr>\n",
       "  <th>NeighType_4</th>       <td>    0.2142</td> <td>    0.103</td> <td>    2.081</td> <td> 0.038</td> <td>    0.012</td> <td>    0.416</td>\n",
       "</tr>\n",
       "<tr>\n",
       "  <th>Baths</th>             <td>    0.0501</td> <td>    0.017</td> <td>    2.883</td> <td> 0.004</td> <td>    0.016</td> <td>    0.084</td>\n",
       "</tr>\n",
       "<tr>\n",
       "  <th>BsmtQual_Avg</th>      <td>   -1.6701</td> <td>    0.391</td> <td>   -4.276</td> <td> 0.000</td> <td>   -2.437</td> <td>   -0.903</td>\n",
       "</tr>\n",
       "<tr>\n",
       "  <th>GarageArea</th>        <td>    0.2483</td> <td>    0.059</td> <td>    4.183</td> <td> 0.000</td> <td>    0.132</td> <td>    0.365</td>\n",
       "</tr>\n",
       "<tr>\n",
       "  <th>YearRemodAdd</th>      <td>    0.0749</td> <td>    0.016</td> <td>    4.612</td> <td> 0.000</td> <td>    0.043</td> <td>    0.107</td>\n",
       "</tr>\n",
       "<tr>\n",
       "  <th>NeighType_1</th>       <td>   -0.2304</td> <td>    0.108</td> <td>   -2.141</td> <td> 0.033</td> <td>   -0.442</td> <td>   -0.019</td>\n",
       "</tr>\n",
       "<tr>\n",
       "  <th>Fireplaces</th>        <td>    0.0554</td> <td>    0.013</td> <td>    4.333</td> <td> 0.000</td> <td>    0.030</td> <td>    0.081</td>\n",
       "</tr>\n",
       "<tr>\n",
       "  <th>TotalBsmtSF</th>       <td>    0.3253</td> <td>    0.066</td> <td>    4.942</td> <td> 0.000</td> <td>    0.196</td> <td>    0.454</td>\n",
       "</tr>\n",
       "<tr>\n",
       "  <th>Foundation_PConc</th>  <td>    0.1739</td> <td>    0.031</td> <td>    5.663</td> <td> 0.000</td> <td>    0.114</td> <td>    0.234</td>\n",
       "</tr>\n",
       "<tr>\n",
       "  <th>KitchenQual_Gd</th>    <td>    0.1222</td> <td>    0.033</td> <td>    3.661</td> <td> 0.000</td> <td>    0.057</td> <td>    0.188</td>\n",
       "</tr>\n",
       "<tr>\n",
       "  <th>Exterior_BrkComm</th>  <td>   -0.7489</td> <td>    0.197</td> <td>   -3.801</td> <td> 0.000</td> <td>   -1.136</td> <td>   -0.362</td>\n",
       "</tr>\n",
       "<tr>\n",
       "  <th>TotRmsAbvGrd</th>      <td>    0.0245</td> <td>    0.020</td> <td>    1.200</td> <td> 0.230</td> <td>   -0.016</td> <td>    0.064</td>\n",
       "</tr>\n",
       "<tr>\n",
       "  <th>ExterQual_Avg</th>     <td>    0.0283</td> <td>    0.038</td> <td>    0.742</td> <td> 0.458</td> <td>   -0.047</td> <td>    0.103</td>\n",
       "</tr>\n",
       "<tr>\n",
       "  <th>BsmtFinSF</th>         <td>    0.1887</td> <td>    0.059</td> <td>    3.223</td> <td> 0.001</td> <td>    0.074</td> <td>    0.304</td>\n",
       "</tr>\n",
       "<tr>\n",
       "  <th>CentralAir_Yes</th>    <td>    0.1525</td> <td>    0.053</td> <td>    2.866</td> <td> 0.004</td> <td>    0.048</td> <td>    0.257</td>\n",
       "</tr>\n",
       "<tr>\n",
       "  <th>KitchenQual_Avg</th>   <td>    0.0950</td> <td>    0.034</td> <td>    2.807</td> <td> 0.005</td> <td>    0.029</td> <td>    0.162</td>\n",
       "</tr>\n",
       "<tr>\n",
       "  <th>NeighType_2</th>       <td>   -0.1776</td> <td>    0.106</td> <td>   -1.676</td> <td> 0.094</td> <td>   -0.386</td> <td>    0.030</td>\n",
       "</tr>\n",
       "<tr>\n",
       "  <th>BsmtExposure_Yes</th>  <td>    0.0724</td> <td>    0.024</td> <td>    2.975</td> <td> 0.003</td> <td>    0.025</td> <td>    0.120</td>\n",
       "</tr>\n",
       "<tr>\n",
       "  <th>MSZoning_Oth</th>      <td>    0.0582</td> <td>    0.035</td> <td>    1.642</td> <td> 0.101</td> <td>   -0.011</td> <td>    0.128</td>\n",
       "</tr>\n",
       "<tr>\n",
       "  <th>LotFrontage</th>       <td>    0.0355</td> <td>    0.014</td> <td>    2.476</td> <td> 0.013</td> <td>    0.007</td> <td>    0.064</td>\n",
       "</tr>\n",
       "<tr>\n",
       "  <th>ExterQual_Ex</th>      <td>    0.1712</td> <td>    0.047</td> <td>    3.680</td> <td> 0.000</td> <td>    0.080</td> <td>    0.263</td>\n",
       "</tr>\n",
       "<tr>\n",
       "  <th>MasVnrArea</th>        <td>    0.0221</td> <td>    0.015</td> <td>    1.505</td> <td> 0.133</td> <td>   -0.007</td> <td>    0.051</td>\n",
       "</tr>\n",
       "<tr>\n",
       "  <th>WoodDeckSF</th>        <td>    0.0226</td> <td>    0.011</td> <td>    2.001</td> <td> 0.046</td> <td>    0.000</td> <td>    0.045</td>\n",
       "</tr>\n",
       "<tr>\n",
       "  <th>RoadRail_Yes</th>      <td>   -0.1429</td> <td>    0.031</td> <td>   -4.661</td> <td> 0.000</td> <td>   -0.203</td> <td>   -0.083</td>\n",
       "</tr>\n",
       "<tr>\n",
       "  <th>ExterQual_Gd</th>      <td>    0.0177</td> <td>    0.030</td> <td>    0.587</td> <td> 0.558</td> <td>   -0.042</td> <td>    0.077</td>\n",
       "</tr>\n",
       "<tr>\n",
       "  <th>BsmtFinType1_GLQ</th>  <td>    0.0250</td> <td>    0.034</td> <td>    0.729</td> <td> 0.466</td> <td>   -0.042</td> <td>    0.092</td>\n",
       "</tr>\n",
       "<tr>\n",
       "  <th>Exterior_VinylSd</th>  <td>    0.1458</td> <td>    0.038</td> <td>    3.810</td> <td> 0.000</td> <td>    0.071</td> <td>    0.221</td>\n",
       "</tr>\n",
       "<tr>\n",
       "  <th>HeatingQC_Avg</th>     <td>    0.1020</td> <td>    0.032</td> <td>    3.203</td> <td> 0.001</td> <td>    0.039</td> <td>    0.164</td>\n",
       "</tr>\n",
       "<tr>\n",
       "  <th>MSZoning_RL</th>       <td>    0.1591</td> <td>    0.031</td> <td>    5.074</td> <td> 0.000</td> <td>    0.098</td> <td>    0.221</td>\n",
       "</tr>\n",
       "<tr>\n",
       "  <th>HeatingQC_Gd</th>      <td>    0.1153</td> <td>    0.033</td> <td>    3.539</td> <td> 0.000</td> <td>    0.051</td> <td>    0.179</td>\n",
       "</tr>\n",
       "<tr>\n",
       "  <th>OpenPorchSF</th>       <td>   -0.0013</td> <td>    0.011</td> <td>   -0.116</td> <td> 0.907</td> <td>   -0.023</td> <td>    0.020</td>\n",
       "</tr>\n",
       "<tr>\n",
       "  <th>GarageType_Oth</th>    <td>   -0.2034</td> <td>    0.083</td> <td>   -2.453</td> <td> 0.014</td> <td>   -0.366</td> <td>   -0.041</td>\n",
       "</tr>\n",
       "<tr>\n",
       "  <th>LotShape_IR2</th>      <td>    0.1421</td> <td>    0.056</td> <td>    2.558</td> <td> 0.011</td> <td>    0.033</td> <td>    0.251</td>\n",
       "</tr>\n",
       "<tr>\n",
       "  <th>Foundation_CBlock</th> <td>    0.0423</td> <td>    0.029</td> <td>    1.448</td> <td> 0.148</td> <td>   -0.015</td> <td>    0.100</td>\n",
       "</tr>\n",
       "<tr>\n",
       "  <th>PavedDrive_Yes</th>    <td>    0.1577</td> <td>    0.046</td> <td>    3.461</td> <td> 0.001</td> <td>    0.068</td> <td>    0.247</td>\n",
       "</tr>\n",
       "<tr>\n",
       "  <th>Foundation_Oth</th>    <td>    0.0010</td> <td>    0.032</td> <td>    0.031</td> <td> 0.975</td> <td>   -0.062</td> <td>    0.064</td>\n",
       "</tr>\n",
       "<tr>\n",
       "  <th>MasVnrType_Oth</th>    <td>    0.0047</td> <td>    0.044</td> <td>    0.105</td> <td> 0.916</td> <td>   -0.082</td> <td>    0.091</td>\n",
       "</tr>\n",
       "<tr>\n",
       "  <th>BldgType_1Fam</th>     <td>    0.1692</td> <td>    0.034</td> <td>    4.920</td> <td> 0.000</td> <td>    0.102</td> <td>    0.237</td>\n",
       "</tr>\n",
       "<tr>\n",
       "  <th>GarageType_Attchd</th> <td>   -0.1774</td> <td>    0.081</td> <td>   -2.199</td> <td> 0.028</td> <td>   -0.336</td> <td>   -0.019</td>\n",
       "</tr>\n",
       "<tr>\n",
       "  <th>Electrical_Yes</th>    <td>   -0.0202</td> <td>    0.042</td> <td>   -0.487</td> <td> 0.627</td> <td>   -0.102</td> <td>    0.061</td>\n",
       "</tr>\n",
       "<tr>\n",
       "  <th>2Story_Y</th>          <td>   -0.0364</td> <td>    0.043</td> <td>   -0.845</td> <td> 0.399</td> <td>   -0.121</td> <td>    0.048</td>\n",
       "</tr>\n",
       "<tr>\n",
       "  <th>BsmtQual_Gd</th>       <td>   -1.6568</td> <td>    0.392</td> <td>   -4.227</td> <td> 0.000</td> <td>   -2.426</td> <td>   -0.887</td>\n",
       "</tr>\n",
       "<tr>\n",
       "  <th>LotShape_IR1</th>      <td>   -0.0071</td> <td>    0.038</td> <td>   -0.184</td> <td> 0.854</td> <td>   -0.082</td> <td>    0.068</td>\n",
       "</tr>\n",
       "<tr>\n",
       "  <th>LotShape_Reg</th>      <td>   -0.0258</td> <td>    0.038</td> <td>   -0.682</td> <td> 0.496</td> <td>   -0.100</td> <td>    0.048</td>\n",
       "</tr>\n",
       "<tr>\n",
       "  <th>BldgType_Oth</th>      <td>    0.0481</td> <td>    0.034</td> <td>    1.399</td> <td> 0.162</td> <td>   -0.019</td> <td>    0.116</td>\n",
       "</tr>\n",
       "<tr>\n",
       "  <th>NeighType_3</th>       <td>   -0.0076</td> <td>    0.102</td> <td>   -0.074</td> <td> 0.941</td> <td>   -0.207</td> <td>    0.192</td>\n",
       "</tr>\n",
       "<tr>\n",
       "  <th>RoofStyle_Oth</th>     <td>    0.1243</td> <td>    0.032</td> <td>    3.894</td> <td> 0.000</td> <td>    0.062</td> <td>    0.187</td>\n",
       "</tr>\n",
       "<tr>\n",
       "  <th>Fence_Yes</th>         <td>   -0.0052</td> <td>    0.028</td> <td>   -0.186</td> <td> 0.852</td> <td>   -0.060</td> <td>    0.050</td>\n",
       "</tr>\n",
       "<tr>\n",
       "  <th>RoofStyle_Gable</th>   <td>    0.0929</td> <td>    0.032</td> <td>    2.861</td> <td> 0.004</td> <td>    0.029</td> <td>    0.157</td>\n",
       "</tr>\n",
       "<tr>\n",
       "  <th>OverallCond</th>       <td>    0.1076</td> <td>    0.014</td> <td>    7.800</td> <td> 0.000</td> <td>    0.081</td> <td>    0.135</td>\n",
       "</tr>\n",
       "<tr>\n",
       "  <th>BsmtFinType1_LwQ</th>  <td>   -0.1026</td> <td>    0.045</td> <td>   -2.259</td> <td> 0.024</td> <td>   -0.192</td> <td>   -0.013</td>\n",
       "</tr>\n",
       "<tr>\n",
       "  <th>ExterCond_Gd</th>      <td>    0.0615</td> <td>    0.105</td> <td>    0.588</td> <td> 0.556</td> <td>   -0.144</td> <td>    0.267</td>\n",
       "</tr>\n",
       "<tr>\n",
       "  <th>LotShape_IR3</th>      <td>    0.1080</td> <td>    0.093</td> <td>    1.165</td> <td> 0.245</td> <td>   -0.074</td> <td>    0.290</td>\n",
       "</tr>\n",
       "<tr>\n",
       "  <th>MasVnrType_Brick</th>  <td>   -0.0232</td> <td>    0.032</td> <td>   -0.717</td> <td> 0.473</td> <td>   -0.087</td> <td>    0.040</td>\n",
       "</tr>\n",
       "<tr>\n",
       "  <th>BsmtFinType1_BLQ</th>  <td>   -0.0061</td> <td>    0.037</td> <td>   -0.166</td> <td> 0.868</td> <td>   -0.078</td> <td>    0.066</td>\n",
       "</tr>\n",
       "<tr>\n",
       "  <th>Exterior_CemntBd</th>  <td>    0.1515</td> <td>    0.055</td> <td>    2.744</td> <td> 0.006</td> <td>    0.043</td> <td>    0.260</td>\n",
       "</tr>\n",
       "<tr>\n",
       "  <th>BsmtFinType1_Rec</th>  <td>    0.0336</td> <td>    0.039</td> <td>    0.853</td> <td> 0.394</td> <td>   -0.044</td> <td>    0.111</td>\n",
       "</tr>\n",
       "<tr>\n",
       "  <th>ExterCond_Avg</th>     <td>    0.1217</td> <td>    0.104</td> <td>    1.170</td> <td> 0.242</td> <td>   -0.082</td> <td>    0.326</td>\n",
       "</tr>\n",
       "<tr>\n",
       "  <th>BsmtFinType1_ALQ</th>  <td>    0.0072</td> <td>    0.034</td> <td>    0.213</td> <td> 0.831</td> <td>   -0.059</td> <td>    0.074</td>\n",
       "</tr>\n",
       "<tr>\n",
       "  <th>Exterior_HdBoard</th>  <td>    0.0919</td> <td>    0.041</td> <td>    2.265</td> <td> 0.024</td> <td>    0.012</td> <td>    0.172</td>\n",
       "</tr>\n",
       "<tr>\n",
       "  <th>Exterior_Wd Sdng</th>  <td>    0.1121</td> <td>    0.041</td> <td>    2.731</td> <td> 0.006</td> <td>    0.032</td> <td>    0.193</td>\n",
       "</tr>\n",
       "<tr>\n",
       "  <th>GarageType_None</th>   <td>    0.5980</td> <td>    0.169</td> <td>    3.546</td> <td> 0.000</td> <td>    0.267</td> <td>    0.929</td>\n",
       "</tr>\n",
       "<tr>\n",
       "  <th>BedroomAbvGr</th>      <td>   -0.0013</td> <td>    0.012</td> <td>   -0.105</td> <td> 0.916</td> <td>   -0.025</td> <td>    0.023</td>\n",
       "</tr>\n",
       "<tr>\n",
       "  <th>LandSlope_Oth</th>     <td>    0.1400</td> <td>    0.041</td> <td>    3.442</td> <td> 0.001</td> <td>    0.060</td> <td>    0.220</td>\n",
       "</tr>\n",
       "<tr>\n",
       "  <th>LandSlope_Gtl</th>     <td>    0.0773</td> <td>    0.039</td> <td>    2.007</td> <td> 0.045</td> <td>    0.002</td> <td>    0.153</td>\n",
       "</tr>\n",
       "<tr>\n",
       "  <th>LotConfig_Oth</th>     <td>    0.1070</td> <td>    0.032</td> <td>    3.396</td> <td> 0.001</td> <td>    0.045</td> <td>    0.169</td>\n",
       "</tr>\n",
       "<tr>\n",
       "  <th>LotConfig_Inside</th>  <td>    0.1102</td> <td>    0.032</td> <td>    3.486</td> <td> 0.001</td> <td>    0.048</td> <td>    0.172</td>\n",
       "</tr>\n",
       "<tr>\n",
       "  <th>Exterior_Other</th>    <td>    0.1718</td> <td>    0.040</td> <td>    4.306</td> <td> 0.000</td> <td>    0.094</td> <td>    0.250</td>\n",
       "</tr>\n",
       "<tr>\n",
       "  <th>BsmtFinType1_None</th> <td>    0.2602</td> <td>    0.100</td> <td>    2.596</td> <td> 0.010</td> <td>    0.064</td> <td>    0.457</td>\n",
       "</tr>\n",
       "<tr>\n",
       "  <th>MoSold</th>            <td>   -0.0049</td> <td>    0.010</td> <td>   -0.483</td> <td> 0.630</td> <td>   -0.025</td> <td>    0.015</td>\n",
       "</tr>\n",
       "<tr>\n",
       "  <th>YrSold</th>            <td>   -0.0209</td> <td>    0.010</td> <td>   -2.019</td> <td> 0.044</td> <td>   -0.041</td> <td>   -0.001</td>\n",
       "</tr>\n",
       "<tr>\n",
       "  <th>Exterior_MetalSd</th>  <td>    0.1707</td> <td>    0.039</td> <td>    4.353</td> <td> 0.000</td> <td>    0.094</td> <td>    0.248</td>\n",
       "</tr>\n",
       "<tr>\n",
       "  <th>ExterCond_Ex</th>      <td>    0.0340</td> <td>    0.217</td> <td>    0.157</td> <td> 0.876</td> <td>   -0.393</td> <td>    0.461</td>\n",
       "</tr>\n",
       "<tr>\n",
       "  <th>Exterior_WdShing</th>  <td>    0.1223</td> <td>    0.080</td> <td>    1.532</td> <td> 0.126</td> <td>   -0.034</td> <td>    0.279</td>\n",
       "</tr>\n",
       "<tr>\n",
       "  <th>LandContour_Oth</th>   <td>    0.1206</td> <td>    0.035</td> <td>    3.404</td> <td> 0.001</td> <td>    0.051</td> <td>    0.190</td>\n",
       "</tr>\n",
       "<tr>\n",
       "  <th>LandContour_Lvl</th>   <td>    0.0967</td> <td>    0.035</td> <td>    2.742</td> <td> 0.006</td> <td>    0.027</td> <td>    0.166</td>\n",
       "</tr>\n",
       "</table>"
      ],
      "text/plain": [
       "<class 'statsmodels.iolib.table.SimpleTable'>"
      ]
     },
     "execution_count": 89,
     "metadata": {},
     "output_type": "execute_result"
    }
   ],
   "source": [
    "import statsmodels.api as sm\n",
    "X_add_const = sm.add_constant(X_train)\n",
    "ols = sm.OLS(y_train, X_add_const)\n",
    "ans = ols.fit()\n",
    "ans.summary().tables[1]"
   ]
  },
  {
   "cell_type": "code",
   "execution_count": 90,
   "metadata": {},
   "outputs": [],
   "source": [
    "# features w/ p-values >0.05 => TotalRmsAbvGrd, ExterQual_Avg, NeighType2, MSZoning_Oth,\n",
    "# MasVnrArea, ExterQual_d, BsmtFinType1_GLQ, OpenPorchSF, Foundation_CBlock,\n",
    "# Foundation_Oth, MasVnrType_Oth, Electrical_Yes, 2Story_Y, LotShape_IR1, LogShape_Reg,\n",
    "# BldgType_Oth, NeighType_3, Fence_Yes, ExterCond_Gd, LogShape_IR3, MasVnrType_Brick,\n",
    "# BsmtFinType1_BLQ, BsmtFinType1_Rec, ExterCond_Avg, _ALQ, BedroomAbvGr, MoSold,\n",
    "# ExterCond_Ex, Exterior_WdShing"
   ]
  },
  {
   "cell_type": "code",
   "execution_count": 93,
   "metadata": {},
   "outputs": [
    {
     "data": {
      "text/html": [
       "<div>\n",
       "<style scoped>\n",
       "    .dataframe tbody tr th:only-of-type {\n",
       "        vertical-align: middle;\n",
       "    }\n",
       "\n",
       "    .dataframe tbody tr th {\n",
       "        vertical-align: top;\n",
       "    }\n",
       "\n",
       "    .dataframe thead th {\n",
       "        text-align: right;\n",
       "    }\n",
       "</style>\n",
       "<table border=\"1\" class=\"dataframe\">\n",
       "  <thead>\n",
       "    <tr style=\"text-align: right;\">\n",
       "      <th></th>\n",
       "      <th>name</th>\n",
       "      <th>coef</th>\n",
       "      <th>std err</th>\n",
       "      <th>t value</th>\n",
       "      <th>p value</th>\n",
       "      <th>2.5% confidence</th>\n",
       "      <th>97.5% confidence</th>\n",
       "    </tr>\n",
       "  </thead>\n",
       "  <tbody>\n",
       "    <tr>\n",
       "      <th>0</th>\n",
       "      <td>const</td>\n",
       "      <td>0.2173</td>\n",
       "      <td>0.059</td>\n",
       "      <td>3.714</td>\n",
       "      <td>0.000</td>\n",
       "      <td>0.102</td>\n",
       "      <td>0.332</td>\n",
       "    </tr>\n",
       "    <tr>\n",
       "      <th>1</th>\n",
       "      <td>GrLivArea</td>\n",
       "      <td>0.2853</td>\n",
       "      <td>0.031</td>\n",
       "      <td>9.312</td>\n",
       "      <td>0.000</td>\n",
       "      <td>0.225</td>\n",
       "      <td>0.345</td>\n",
       "    </tr>\n",
       "    <tr>\n",
       "      <th>2</th>\n",
       "      <td>OverallQual</td>\n",
       "      <td>0.2101</td>\n",
       "      <td>0.020</td>\n",
       "      <td>10.331</td>\n",
       "      <td>0.000</td>\n",
       "      <td>0.170</td>\n",
       "      <td>0.250</td>\n",
       "    </tr>\n",
       "    <tr>\n",
       "      <th>3</th>\n",
       "      <td>NeighType_4</td>\n",
       "      <td>0.2142</td>\n",
       "      <td>0.103</td>\n",
       "      <td>2.081</td>\n",
       "      <td>0.038</td>\n",
       "      <td>0.012</td>\n",
       "      <td>0.416</td>\n",
       "    </tr>\n",
       "    <tr>\n",
       "      <th>4</th>\n",
       "      <td>Baths</td>\n",
       "      <td>0.0501</td>\n",
       "      <td>0.017</td>\n",
       "      <td>2.883</td>\n",
       "      <td>0.004</td>\n",
       "      <td>0.016</td>\n",
       "      <td>0.084</td>\n",
       "    </tr>\n",
       "    <tr>\n",
       "      <th>5</th>\n",
       "      <td>BsmtQual_Avg</td>\n",
       "      <td>-1.6701</td>\n",
       "      <td>0.391</td>\n",
       "      <td>-4.276</td>\n",
       "      <td>0.000</td>\n",
       "      <td>-2.437</td>\n",
       "      <td>-0.903</td>\n",
       "    </tr>\n",
       "    <tr>\n",
       "      <th>6</th>\n",
       "      <td>GarageArea</td>\n",
       "      <td>0.2483</td>\n",
       "      <td>0.059</td>\n",
       "      <td>4.183</td>\n",
       "      <td>0.000</td>\n",
       "      <td>0.132</td>\n",
       "      <td>0.365</td>\n",
       "    </tr>\n",
       "    <tr>\n",
       "      <th>7</th>\n",
       "      <td>YearRemodAdd</td>\n",
       "      <td>0.0749</td>\n",
       "      <td>0.016</td>\n",
       "      <td>4.612</td>\n",
       "      <td>0.000</td>\n",
       "      <td>0.043</td>\n",
       "      <td>0.107</td>\n",
       "    </tr>\n",
       "    <tr>\n",
       "      <th>8</th>\n",
       "      <td>NeighType_1</td>\n",
       "      <td>-0.2304</td>\n",
       "      <td>0.108</td>\n",
       "      <td>-2.141</td>\n",
       "      <td>0.033</td>\n",
       "      <td>-0.442</td>\n",
       "      <td>-0.019</td>\n",
       "    </tr>\n",
       "    <tr>\n",
       "      <th>9</th>\n",
       "      <td>Fireplaces</td>\n",
       "      <td>0.0554</td>\n",
       "      <td>0.013</td>\n",
       "      <td>4.333</td>\n",
       "      <td>0.000</td>\n",
       "      <td>0.030</td>\n",
       "      <td>0.081</td>\n",
       "    </tr>\n",
       "    <tr>\n",
       "      <th>10</th>\n",
       "      <td>TotalBsmtSF</td>\n",
       "      <td>0.3253</td>\n",
       "      <td>0.066</td>\n",
       "      <td>4.942</td>\n",
       "      <td>0.000</td>\n",
       "      <td>0.196</td>\n",
       "      <td>0.454</td>\n",
       "    </tr>\n",
       "    <tr>\n",
       "      <th>11</th>\n",
       "      <td>Foundation_PConc</td>\n",
       "      <td>0.1739</td>\n",
       "      <td>0.031</td>\n",
       "      <td>5.663</td>\n",
       "      <td>0.000</td>\n",
       "      <td>0.114</td>\n",
       "      <td>0.234</td>\n",
       "    </tr>\n",
       "    <tr>\n",
       "      <th>12</th>\n",
       "      <td>KitchenQual_Gd</td>\n",
       "      <td>0.1222</td>\n",
       "      <td>0.033</td>\n",
       "      <td>3.661</td>\n",
       "      <td>0.000</td>\n",
       "      <td>0.057</td>\n",
       "      <td>0.188</td>\n",
       "    </tr>\n",
       "    <tr>\n",
       "      <th>13</th>\n",
       "      <td>Exterior_BrkComm</td>\n",
       "      <td>-0.7489</td>\n",
       "      <td>0.197</td>\n",
       "      <td>-3.801</td>\n",
       "      <td>0.000</td>\n",
       "      <td>-1.136</td>\n",
       "      <td>-0.362</td>\n",
       "    </tr>\n",
       "    <tr>\n",
       "      <th>16</th>\n",
       "      <td>BsmtFinSF</td>\n",
       "      <td>0.1887</td>\n",
       "      <td>0.059</td>\n",
       "      <td>3.223</td>\n",
       "      <td>0.001</td>\n",
       "      <td>0.074</td>\n",
       "      <td>0.304</td>\n",
       "    </tr>\n",
       "    <tr>\n",
       "      <th>17</th>\n",
       "      <td>CentralAir_Yes</td>\n",
       "      <td>0.1525</td>\n",
       "      <td>0.053</td>\n",
       "      <td>2.866</td>\n",
       "      <td>0.004</td>\n",
       "      <td>0.048</td>\n",
       "      <td>0.257</td>\n",
       "    </tr>\n",
       "    <tr>\n",
       "      <th>18</th>\n",
       "      <td>KitchenQual_Avg</td>\n",
       "      <td>0.0950</td>\n",
       "      <td>0.034</td>\n",
       "      <td>2.807</td>\n",
       "      <td>0.005</td>\n",
       "      <td>0.029</td>\n",
       "      <td>0.162</td>\n",
       "    </tr>\n",
       "    <tr>\n",
       "      <th>20</th>\n",
       "      <td>BsmtExposure_Yes</td>\n",
       "      <td>0.0724</td>\n",
       "      <td>0.024</td>\n",
       "      <td>2.975</td>\n",
       "      <td>0.003</td>\n",
       "      <td>0.025</td>\n",
       "      <td>0.120</td>\n",
       "    </tr>\n",
       "    <tr>\n",
       "      <th>22</th>\n",
       "      <td>LotFrontage</td>\n",
       "      <td>0.0355</td>\n",
       "      <td>0.014</td>\n",
       "      <td>2.476</td>\n",
       "      <td>0.013</td>\n",
       "      <td>0.007</td>\n",
       "      <td>0.064</td>\n",
       "    </tr>\n",
       "    <tr>\n",
       "      <th>23</th>\n",
       "      <td>ExterQual_Ex</td>\n",
       "      <td>0.1712</td>\n",
       "      <td>0.047</td>\n",
       "      <td>3.680</td>\n",
       "      <td>0.000</td>\n",
       "      <td>0.080</td>\n",
       "      <td>0.263</td>\n",
       "    </tr>\n",
       "    <tr>\n",
       "      <th>25</th>\n",
       "      <td>WoodDeckSF</td>\n",
       "      <td>0.0226</td>\n",
       "      <td>0.011</td>\n",
       "      <td>2.001</td>\n",
       "      <td>0.046</td>\n",
       "      <td>0.000</td>\n",
       "      <td>0.045</td>\n",
       "    </tr>\n",
       "    <tr>\n",
       "      <th>26</th>\n",
       "      <td>RoadRail_Yes</td>\n",
       "      <td>-0.1429</td>\n",
       "      <td>0.031</td>\n",
       "      <td>-4.661</td>\n",
       "      <td>0.000</td>\n",
       "      <td>-0.203</td>\n",
       "      <td>-0.083</td>\n",
       "    </tr>\n",
       "    <tr>\n",
       "      <th>29</th>\n",
       "      <td>Exterior_VinylSd</td>\n",
       "      <td>0.1458</td>\n",
       "      <td>0.038</td>\n",
       "      <td>3.810</td>\n",
       "      <td>0.000</td>\n",
       "      <td>0.071</td>\n",
       "      <td>0.221</td>\n",
       "    </tr>\n",
       "    <tr>\n",
       "      <th>30</th>\n",
       "      <td>HeatingQC_Avg</td>\n",
       "      <td>0.1020</td>\n",
       "      <td>0.032</td>\n",
       "      <td>3.203</td>\n",
       "      <td>0.001</td>\n",
       "      <td>0.039</td>\n",
       "      <td>0.164</td>\n",
       "    </tr>\n",
       "    <tr>\n",
       "      <th>31</th>\n",
       "      <td>MSZoning_RL</td>\n",
       "      <td>0.1591</td>\n",
       "      <td>0.031</td>\n",
       "      <td>5.074</td>\n",
       "      <td>0.000</td>\n",
       "      <td>0.098</td>\n",
       "      <td>0.221</td>\n",
       "    </tr>\n",
       "    <tr>\n",
       "      <th>32</th>\n",
       "      <td>HeatingQC_Gd</td>\n",
       "      <td>0.1153</td>\n",
       "      <td>0.033</td>\n",
       "      <td>3.539</td>\n",
       "      <td>0.000</td>\n",
       "      <td>0.051</td>\n",
       "      <td>0.179</td>\n",
       "    </tr>\n",
       "    <tr>\n",
       "      <th>34</th>\n",
       "      <td>GarageType_Oth</td>\n",
       "      <td>-0.2034</td>\n",
       "      <td>0.083</td>\n",
       "      <td>-2.453</td>\n",
       "      <td>0.014</td>\n",
       "      <td>-0.366</td>\n",
       "      <td>-0.041</td>\n",
       "    </tr>\n",
       "    <tr>\n",
       "      <th>35</th>\n",
       "      <td>LotShape_IR2</td>\n",
       "      <td>0.1421</td>\n",
       "      <td>0.056</td>\n",
       "      <td>2.558</td>\n",
       "      <td>0.011</td>\n",
       "      <td>0.033</td>\n",
       "      <td>0.251</td>\n",
       "    </tr>\n",
       "    <tr>\n",
       "      <th>37</th>\n",
       "      <td>PavedDrive_Yes</td>\n",
       "      <td>0.1577</td>\n",
       "      <td>0.046</td>\n",
       "      <td>3.461</td>\n",
       "      <td>0.001</td>\n",
       "      <td>0.068</td>\n",
       "      <td>0.247</td>\n",
       "    </tr>\n",
       "    <tr>\n",
       "      <th>40</th>\n",
       "      <td>BldgType_1Fam</td>\n",
       "      <td>0.1692</td>\n",
       "      <td>0.034</td>\n",
       "      <td>4.920</td>\n",
       "      <td>0.000</td>\n",
       "      <td>0.102</td>\n",
       "      <td>0.237</td>\n",
       "    </tr>\n",
       "    <tr>\n",
       "      <th>41</th>\n",
       "      <td>GarageType_Attchd</td>\n",
       "      <td>-0.1774</td>\n",
       "      <td>0.081</td>\n",
       "      <td>-2.199</td>\n",
       "      <td>0.028</td>\n",
       "      <td>-0.336</td>\n",
       "      <td>-0.019</td>\n",
       "    </tr>\n",
       "    <tr>\n",
       "      <th>44</th>\n",
       "      <td>BsmtQual_Gd</td>\n",
       "      <td>-1.6568</td>\n",
       "      <td>0.392</td>\n",
       "      <td>-4.227</td>\n",
       "      <td>0.000</td>\n",
       "      <td>-2.426</td>\n",
       "      <td>-0.887</td>\n",
       "    </tr>\n",
       "    <tr>\n",
       "      <th>49</th>\n",
       "      <td>RoofStyle_Oth</td>\n",
       "      <td>0.1243</td>\n",
       "      <td>0.032</td>\n",
       "      <td>3.894</td>\n",
       "      <td>0.000</td>\n",
       "      <td>0.062</td>\n",
       "      <td>0.187</td>\n",
       "    </tr>\n",
       "    <tr>\n",
       "      <th>51</th>\n",
       "      <td>RoofStyle_Gable</td>\n",
       "      <td>0.0929</td>\n",
       "      <td>0.032</td>\n",
       "      <td>2.861</td>\n",
       "      <td>0.004</td>\n",
       "      <td>0.029</td>\n",
       "      <td>0.157</td>\n",
       "    </tr>\n",
       "    <tr>\n",
       "      <th>52</th>\n",
       "      <td>OverallCond</td>\n",
       "      <td>0.1076</td>\n",
       "      <td>0.014</td>\n",
       "      <td>7.800</td>\n",
       "      <td>0.000</td>\n",
       "      <td>0.081</td>\n",
       "      <td>0.135</td>\n",
       "    </tr>\n",
       "    <tr>\n",
       "      <th>53</th>\n",
       "      <td>BsmtFinType1_LwQ</td>\n",
       "      <td>-0.1026</td>\n",
       "      <td>0.045</td>\n",
       "      <td>-2.259</td>\n",
       "      <td>0.024</td>\n",
       "      <td>-0.192</td>\n",
       "      <td>-0.013</td>\n",
       "    </tr>\n",
       "    <tr>\n",
       "      <th>58</th>\n",
       "      <td>Exterior_CemntBd</td>\n",
       "      <td>0.1515</td>\n",
       "      <td>0.055</td>\n",
       "      <td>2.744</td>\n",
       "      <td>0.006</td>\n",
       "      <td>0.043</td>\n",
       "      <td>0.260</td>\n",
       "    </tr>\n",
       "    <tr>\n",
       "      <th>62</th>\n",
       "      <td>Exterior_HdBoard</td>\n",
       "      <td>0.0919</td>\n",
       "      <td>0.041</td>\n",
       "      <td>2.265</td>\n",
       "      <td>0.024</td>\n",
       "      <td>0.012</td>\n",
       "      <td>0.172</td>\n",
       "    </tr>\n",
       "    <tr>\n",
       "      <th>63</th>\n",
       "      <td>Exterior_Wd Sdng</td>\n",
       "      <td>0.1121</td>\n",
       "      <td>0.041</td>\n",
       "      <td>2.731</td>\n",
       "      <td>0.006</td>\n",
       "      <td>0.032</td>\n",
       "      <td>0.193</td>\n",
       "    </tr>\n",
       "    <tr>\n",
       "      <th>64</th>\n",
       "      <td>GarageType_None</td>\n",
       "      <td>0.5980</td>\n",
       "      <td>0.169</td>\n",
       "      <td>3.546</td>\n",
       "      <td>0.000</td>\n",
       "      <td>0.267</td>\n",
       "      <td>0.929</td>\n",
       "    </tr>\n",
       "    <tr>\n",
       "      <th>66</th>\n",
       "      <td>LandSlope_Oth</td>\n",
       "      <td>0.1400</td>\n",
       "      <td>0.041</td>\n",
       "      <td>3.442</td>\n",
       "      <td>0.001</td>\n",
       "      <td>0.060</td>\n",
       "      <td>0.220</td>\n",
       "    </tr>\n",
       "    <tr>\n",
       "      <th>67</th>\n",
       "      <td>LandSlope_Gtl</td>\n",
       "      <td>0.0773</td>\n",
       "      <td>0.039</td>\n",
       "      <td>2.007</td>\n",
       "      <td>0.045</td>\n",
       "      <td>0.002</td>\n",
       "      <td>0.153</td>\n",
       "    </tr>\n",
       "    <tr>\n",
       "      <th>68</th>\n",
       "      <td>LotConfig_Oth</td>\n",
       "      <td>0.1070</td>\n",
       "      <td>0.032</td>\n",
       "      <td>3.396</td>\n",
       "      <td>0.001</td>\n",
       "      <td>0.045</td>\n",
       "      <td>0.169</td>\n",
       "    </tr>\n",
       "    <tr>\n",
       "      <th>69</th>\n",
       "      <td>LotConfig_Inside</td>\n",
       "      <td>0.1102</td>\n",
       "      <td>0.032</td>\n",
       "      <td>3.486</td>\n",
       "      <td>0.001</td>\n",
       "      <td>0.048</td>\n",
       "      <td>0.172</td>\n",
       "    </tr>\n",
       "    <tr>\n",
       "      <th>70</th>\n",
       "      <td>Exterior_Other</td>\n",
       "      <td>0.1718</td>\n",
       "      <td>0.040</td>\n",
       "      <td>4.306</td>\n",
       "      <td>0.000</td>\n",
       "      <td>0.094</td>\n",
       "      <td>0.250</td>\n",
       "    </tr>\n",
       "    <tr>\n",
       "      <th>71</th>\n",
       "      <td>BsmtFinType1_None</td>\n",
       "      <td>0.2602</td>\n",
       "      <td>0.100</td>\n",
       "      <td>2.596</td>\n",
       "      <td>0.010</td>\n",
       "      <td>0.064</td>\n",
       "      <td>0.457</td>\n",
       "    </tr>\n",
       "    <tr>\n",
       "      <th>73</th>\n",
       "      <td>YrSold</td>\n",
       "      <td>-0.0209</td>\n",
       "      <td>0.010</td>\n",
       "      <td>-2.019</td>\n",
       "      <td>0.044</td>\n",
       "      <td>-0.041</td>\n",
       "      <td>-0.001</td>\n",
       "    </tr>\n",
       "    <tr>\n",
       "      <th>74</th>\n",
       "      <td>Exterior_MetalSd</td>\n",
       "      <td>0.1707</td>\n",
       "      <td>0.039</td>\n",
       "      <td>4.353</td>\n",
       "      <td>0.000</td>\n",
       "      <td>0.094</td>\n",
       "      <td>0.248</td>\n",
       "    </tr>\n",
       "    <tr>\n",
       "      <th>77</th>\n",
       "      <td>LandContour_Oth</td>\n",
       "      <td>0.1206</td>\n",
       "      <td>0.035</td>\n",
       "      <td>3.404</td>\n",
       "      <td>0.001</td>\n",
       "      <td>0.051</td>\n",
       "      <td>0.190</td>\n",
       "    </tr>\n",
       "    <tr>\n",
       "      <th>78</th>\n",
       "      <td>LandContour_Lvl</td>\n",
       "      <td>0.0967</td>\n",
       "      <td>0.035</td>\n",
       "      <td>2.742</td>\n",
       "      <td>0.006</td>\n",
       "      <td>0.027</td>\n",
       "      <td>0.166</td>\n",
       "    </tr>\n",
       "  </tbody>\n",
       "</table>\n",
       "</div>"
      ],
      "text/plain": [
       "                 name    coef  std err  t value  p value  2.5% confidence  \\\n",
       "0               const  0.2173    0.059    3.714    0.000            0.102   \n",
       "1           GrLivArea  0.2853    0.031    9.312    0.000            0.225   \n",
       "2         OverallQual  0.2101    0.020   10.331    0.000            0.170   \n",
       "3         NeighType_4  0.2142    0.103    2.081    0.038            0.012   \n",
       "4               Baths  0.0501    0.017    2.883    0.004            0.016   \n",
       "5        BsmtQual_Avg -1.6701    0.391   -4.276    0.000           -2.437   \n",
       "6          GarageArea  0.2483    0.059    4.183    0.000            0.132   \n",
       "7        YearRemodAdd  0.0749    0.016    4.612    0.000            0.043   \n",
       "8         NeighType_1 -0.2304    0.108   -2.141    0.033           -0.442   \n",
       "9          Fireplaces  0.0554    0.013    4.333    0.000            0.030   \n",
       "10        TotalBsmtSF  0.3253    0.066    4.942    0.000            0.196   \n",
       "11   Foundation_PConc  0.1739    0.031    5.663    0.000            0.114   \n",
       "12     KitchenQual_Gd  0.1222    0.033    3.661    0.000            0.057   \n",
       "13   Exterior_BrkComm -0.7489    0.197   -3.801    0.000           -1.136   \n",
       "16          BsmtFinSF  0.1887    0.059    3.223    0.001            0.074   \n",
       "17     CentralAir_Yes  0.1525    0.053    2.866    0.004            0.048   \n",
       "18    KitchenQual_Avg  0.0950    0.034    2.807    0.005            0.029   \n",
       "20   BsmtExposure_Yes  0.0724    0.024    2.975    0.003            0.025   \n",
       "22        LotFrontage  0.0355    0.014    2.476    0.013            0.007   \n",
       "23       ExterQual_Ex  0.1712    0.047    3.680    0.000            0.080   \n",
       "25         WoodDeckSF  0.0226    0.011    2.001    0.046            0.000   \n",
       "26       RoadRail_Yes -0.1429    0.031   -4.661    0.000           -0.203   \n",
       "29   Exterior_VinylSd  0.1458    0.038    3.810    0.000            0.071   \n",
       "30      HeatingQC_Avg  0.1020    0.032    3.203    0.001            0.039   \n",
       "31        MSZoning_RL  0.1591    0.031    5.074    0.000            0.098   \n",
       "32       HeatingQC_Gd  0.1153    0.033    3.539    0.000            0.051   \n",
       "34     GarageType_Oth -0.2034    0.083   -2.453    0.014           -0.366   \n",
       "35       LotShape_IR2  0.1421    0.056    2.558    0.011            0.033   \n",
       "37     PavedDrive_Yes  0.1577    0.046    3.461    0.001            0.068   \n",
       "40      BldgType_1Fam  0.1692    0.034    4.920    0.000            0.102   \n",
       "41  GarageType_Attchd -0.1774    0.081   -2.199    0.028           -0.336   \n",
       "44        BsmtQual_Gd -1.6568    0.392   -4.227    0.000           -2.426   \n",
       "49      RoofStyle_Oth  0.1243    0.032    3.894    0.000            0.062   \n",
       "51    RoofStyle_Gable  0.0929    0.032    2.861    0.004            0.029   \n",
       "52        OverallCond  0.1076    0.014    7.800    0.000            0.081   \n",
       "53   BsmtFinType1_LwQ -0.1026    0.045   -2.259    0.024           -0.192   \n",
       "58   Exterior_CemntBd  0.1515    0.055    2.744    0.006            0.043   \n",
       "62   Exterior_HdBoard  0.0919    0.041    2.265    0.024            0.012   \n",
       "63   Exterior_Wd Sdng  0.1121    0.041    2.731    0.006            0.032   \n",
       "64    GarageType_None  0.5980    0.169    3.546    0.000            0.267   \n",
       "66      LandSlope_Oth  0.1400    0.041    3.442    0.001            0.060   \n",
       "67      LandSlope_Gtl  0.0773    0.039    2.007    0.045            0.002   \n",
       "68      LotConfig_Oth  0.1070    0.032    3.396    0.001            0.045   \n",
       "69   LotConfig_Inside  0.1102    0.032    3.486    0.001            0.048   \n",
       "70     Exterior_Other  0.1718    0.040    4.306    0.000            0.094   \n",
       "71  BsmtFinType1_None  0.2602    0.100    2.596    0.010            0.064   \n",
       "73             YrSold -0.0209    0.010   -2.019    0.044           -0.041   \n",
       "74   Exterior_MetalSd  0.1707    0.039    4.353    0.000            0.094   \n",
       "77    LandContour_Oth  0.1206    0.035    3.404    0.001            0.051   \n",
       "78    LandContour_Lvl  0.0967    0.035    2.742    0.006            0.027   \n",
       "\n",
       "    97.5% confidence  \n",
       "0              0.332  \n",
       "1              0.345  \n",
       "2              0.250  \n",
       "3              0.416  \n",
       "4              0.084  \n",
       "5             -0.903  \n",
       "6              0.365  \n",
       "7              0.107  \n",
       "8             -0.019  \n",
       "9              0.081  \n",
       "10             0.454  \n",
       "11             0.234  \n",
       "12             0.188  \n",
       "13            -0.362  \n",
       "16             0.304  \n",
       "17             0.257  \n",
       "18             0.162  \n",
       "20             0.120  \n",
       "22             0.064  \n",
       "23             0.263  \n",
       "25             0.045  \n",
       "26            -0.083  \n",
       "29             0.221  \n",
       "30             0.164  \n",
       "31             0.221  \n",
       "32             0.179  \n",
       "34            -0.041  \n",
       "35             0.251  \n",
       "37             0.247  \n",
       "40             0.237  \n",
       "41            -0.019  \n",
       "44            -0.887  \n",
       "49             0.187  \n",
       "51             0.157  \n",
       "52             0.135  \n",
       "53            -0.013  \n",
       "58             0.260  \n",
       "62             0.172  \n",
       "63             0.193  \n",
       "64             0.929  \n",
       "66             0.220  \n",
       "67             0.153  \n",
       "68             0.169  \n",
       "69             0.172  \n",
       "70             0.250  \n",
       "71             0.457  \n",
       "73            -0.001  \n",
       "74             0.248  \n",
       "77             0.190  \n",
       "78             0.166  "
      ]
     },
     "execution_count": 93,
     "metadata": {},
     "output_type": "execute_result"
    }
   ],
   "source": [
    "table = pd.DataFrame(ans.summary().tables[1].data[1:])\n",
    "table.columns = ['name','coef','std err','t value','p value','2.5% confidence','97.5% confidence']\n",
    "table = table.astype({'name':str,'coef':float,'std err':float, 't value':float, 'p value':float,'2.5% confidence':float, '97.5% confidence':float})\n",
    "table[table['p value']<0.05]\n",
    "# those coefficients with 0 lying outside their CIs"
   ]
  },
  {
   "cell_type": "code",
   "execution_count": 92,
   "metadata": {},
   "outputs": [
    {
     "data": {
      "text/html": [
       "<div>\n",
       "<style scoped>\n",
       "    .dataframe tbody tr th:only-of-type {\n",
       "        vertical-align: middle;\n",
       "    }\n",
       "\n",
       "    .dataframe tbody tr th {\n",
       "        vertical-align: top;\n",
       "    }\n",
       "\n",
       "    .dataframe thead th {\n",
       "        text-align: right;\n",
       "    }\n",
       "</style>\n",
       "<table border=\"1\" class=\"dataframe\">\n",
       "  <thead>\n",
       "    <tr style=\"text-align: right;\">\n",
       "      <th></th>\n",
       "      <th>name</th>\n",
       "      <th>coef</th>\n",
       "      <th>std err</th>\n",
       "      <th>t value</th>\n",
       "      <th>p value</th>\n",
       "      <th>2.5% confidence</th>\n",
       "      <th>97.5% confidence</th>\n",
       "    </tr>\n",
       "  </thead>\n",
       "  <tbody>\n",
       "    <tr>\n",
       "      <th>14</th>\n",
       "      <td>TotRmsAbvGrd</td>\n",
       "      <td>0.0245</td>\n",
       "      <td>0.020</td>\n",
       "      <td>1.200</td>\n",
       "      <td>0.230</td>\n",
       "      <td>-0.016</td>\n",
       "      <td>0.064</td>\n",
       "    </tr>\n",
       "    <tr>\n",
       "      <th>15</th>\n",
       "      <td>ExterQual_Avg</td>\n",
       "      <td>0.0283</td>\n",
       "      <td>0.038</td>\n",
       "      <td>0.742</td>\n",
       "      <td>0.458</td>\n",
       "      <td>-0.047</td>\n",
       "      <td>0.103</td>\n",
       "    </tr>\n",
       "    <tr>\n",
       "      <th>19</th>\n",
       "      <td>NeighType_2</td>\n",
       "      <td>-0.1776</td>\n",
       "      <td>0.106</td>\n",
       "      <td>-1.676</td>\n",
       "      <td>0.094</td>\n",
       "      <td>-0.386</td>\n",
       "      <td>0.030</td>\n",
       "    </tr>\n",
       "    <tr>\n",
       "      <th>21</th>\n",
       "      <td>MSZoning_Oth</td>\n",
       "      <td>0.0582</td>\n",
       "      <td>0.035</td>\n",
       "      <td>1.642</td>\n",
       "      <td>0.101</td>\n",
       "      <td>-0.011</td>\n",
       "      <td>0.128</td>\n",
       "    </tr>\n",
       "    <tr>\n",
       "      <th>24</th>\n",
       "      <td>MasVnrArea</td>\n",
       "      <td>0.0221</td>\n",
       "      <td>0.015</td>\n",
       "      <td>1.505</td>\n",
       "      <td>0.133</td>\n",
       "      <td>-0.007</td>\n",
       "      <td>0.051</td>\n",
       "    </tr>\n",
       "    <tr>\n",
       "      <th>27</th>\n",
       "      <td>ExterQual_Gd</td>\n",
       "      <td>0.0177</td>\n",
       "      <td>0.030</td>\n",
       "      <td>0.587</td>\n",
       "      <td>0.558</td>\n",
       "      <td>-0.042</td>\n",
       "      <td>0.077</td>\n",
       "    </tr>\n",
       "    <tr>\n",
       "      <th>28</th>\n",
       "      <td>BsmtFinType1_GLQ</td>\n",
       "      <td>0.0250</td>\n",
       "      <td>0.034</td>\n",
       "      <td>0.729</td>\n",
       "      <td>0.466</td>\n",
       "      <td>-0.042</td>\n",
       "      <td>0.092</td>\n",
       "    </tr>\n",
       "    <tr>\n",
       "      <th>33</th>\n",
       "      <td>OpenPorchSF</td>\n",
       "      <td>-0.0013</td>\n",
       "      <td>0.011</td>\n",
       "      <td>-0.116</td>\n",
       "      <td>0.907</td>\n",
       "      <td>-0.023</td>\n",
       "      <td>0.020</td>\n",
       "    </tr>\n",
       "    <tr>\n",
       "      <th>36</th>\n",
       "      <td>Foundation_CBlock</td>\n",
       "      <td>0.0423</td>\n",
       "      <td>0.029</td>\n",
       "      <td>1.448</td>\n",
       "      <td>0.148</td>\n",
       "      <td>-0.015</td>\n",
       "      <td>0.100</td>\n",
       "    </tr>\n",
       "    <tr>\n",
       "      <th>38</th>\n",
       "      <td>Foundation_Oth</td>\n",
       "      <td>0.0010</td>\n",
       "      <td>0.032</td>\n",
       "      <td>0.031</td>\n",
       "      <td>0.975</td>\n",
       "      <td>-0.062</td>\n",
       "      <td>0.064</td>\n",
       "    </tr>\n",
       "    <tr>\n",
       "      <th>39</th>\n",
       "      <td>MasVnrType_Oth</td>\n",
       "      <td>0.0047</td>\n",
       "      <td>0.044</td>\n",
       "      <td>0.105</td>\n",
       "      <td>0.916</td>\n",
       "      <td>-0.082</td>\n",
       "      <td>0.091</td>\n",
       "    </tr>\n",
       "    <tr>\n",
       "      <th>42</th>\n",
       "      <td>Electrical_Yes</td>\n",
       "      <td>-0.0202</td>\n",
       "      <td>0.042</td>\n",
       "      <td>-0.487</td>\n",
       "      <td>0.627</td>\n",
       "      <td>-0.102</td>\n",
       "      <td>0.061</td>\n",
       "    </tr>\n",
       "    <tr>\n",
       "      <th>43</th>\n",
       "      <td>2Story_Y</td>\n",
       "      <td>-0.0364</td>\n",
       "      <td>0.043</td>\n",
       "      <td>-0.845</td>\n",
       "      <td>0.399</td>\n",
       "      <td>-0.121</td>\n",
       "      <td>0.048</td>\n",
       "    </tr>\n",
       "    <tr>\n",
       "      <th>45</th>\n",
       "      <td>LotShape_IR1</td>\n",
       "      <td>-0.0071</td>\n",
       "      <td>0.038</td>\n",
       "      <td>-0.184</td>\n",
       "      <td>0.854</td>\n",
       "      <td>-0.082</td>\n",
       "      <td>0.068</td>\n",
       "    </tr>\n",
       "    <tr>\n",
       "      <th>46</th>\n",
       "      <td>LotShape_Reg</td>\n",
       "      <td>-0.0258</td>\n",
       "      <td>0.038</td>\n",
       "      <td>-0.682</td>\n",
       "      <td>0.496</td>\n",
       "      <td>-0.100</td>\n",
       "      <td>0.048</td>\n",
       "    </tr>\n",
       "    <tr>\n",
       "      <th>47</th>\n",
       "      <td>BldgType_Oth</td>\n",
       "      <td>0.0481</td>\n",
       "      <td>0.034</td>\n",
       "      <td>1.399</td>\n",
       "      <td>0.162</td>\n",
       "      <td>-0.019</td>\n",
       "      <td>0.116</td>\n",
       "    </tr>\n",
       "    <tr>\n",
       "      <th>48</th>\n",
       "      <td>NeighType_3</td>\n",
       "      <td>-0.0076</td>\n",
       "      <td>0.102</td>\n",
       "      <td>-0.074</td>\n",
       "      <td>0.941</td>\n",
       "      <td>-0.207</td>\n",
       "      <td>0.192</td>\n",
       "    </tr>\n",
       "    <tr>\n",
       "      <th>50</th>\n",
       "      <td>Fence_Yes</td>\n",
       "      <td>-0.0052</td>\n",
       "      <td>0.028</td>\n",
       "      <td>-0.186</td>\n",
       "      <td>0.852</td>\n",
       "      <td>-0.060</td>\n",
       "      <td>0.050</td>\n",
       "    </tr>\n",
       "    <tr>\n",
       "      <th>54</th>\n",
       "      <td>ExterCond_Gd</td>\n",
       "      <td>0.0615</td>\n",
       "      <td>0.105</td>\n",
       "      <td>0.588</td>\n",
       "      <td>0.556</td>\n",
       "      <td>-0.144</td>\n",
       "      <td>0.267</td>\n",
       "    </tr>\n",
       "    <tr>\n",
       "      <th>55</th>\n",
       "      <td>LotShape_IR3</td>\n",
       "      <td>0.1080</td>\n",
       "      <td>0.093</td>\n",
       "      <td>1.165</td>\n",
       "      <td>0.245</td>\n",
       "      <td>-0.074</td>\n",
       "      <td>0.290</td>\n",
       "    </tr>\n",
       "    <tr>\n",
       "      <th>56</th>\n",
       "      <td>MasVnrType_Brick</td>\n",
       "      <td>-0.0232</td>\n",
       "      <td>0.032</td>\n",
       "      <td>-0.717</td>\n",
       "      <td>0.473</td>\n",
       "      <td>-0.087</td>\n",
       "      <td>0.040</td>\n",
       "    </tr>\n",
       "    <tr>\n",
       "      <th>57</th>\n",
       "      <td>BsmtFinType1_BLQ</td>\n",
       "      <td>-0.0061</td>\n",
       "      <td>0.037</td>\n",
       "      <td>-0.166</td>\n",
       "      <td>0.868</td>\n",
       "      <td>-0.078</td>\n",
       "      <td>0.066</td>\n",
       "    </tr>\n",
       "    <tr>\n",
       "      <th>59</th>\n",
       "      <td>BsmtFinType1_Rec</td>\n",
       "      <td>0.0336</td>\n",
       "      <td>0.039</td>\n",
       "      <td>0.853</td>\n",
       "      <td>0.394</td>\n",
       "      <td>-0.044</td>\n",
       "      <td>0.111</td>\n",
       "    </tr>\n",
       "    <tr>\n",
       "      <th>60</th>\n",
       "      <td>ExterCond_Avg</td>\n",
       "      <td>0.1217</td>\n",
       "      <td>0.104</td>\n",
       "      <td>1.170</td>\n",
       "      <td>0.242</td>\n",
       "      <td>-0.082</td>\n",
       "      <td>0.326</td>\n",
       "    </tr>\n",
       "    <tr>\n",
       "      <th>61</th>\n",
       "      <td>BsmtFinType1_ALQ</td>\n",
       "      <td>0.0072</td>\n",
       "      <td>0.034</td>\n",
       "      <td>0.213</td>\n",
       "      <td>0.831</td>\n",
       "      <td>-0.059</td>\n",
       "      <td>0.074</td>\n",
       "    </tr>\n",
       "    <tr>\n",
       "      <th>65</th>\n",
       "      <td>BedroomAbvGr</td>\n",
       "      <td>-0.0013</td>\n",
       "      <td>0.012</td>\n",
       "      <td>-0.105</td>\n",
       "      <td>0.916</td>\n",
       "      <td>-0.025</td>\n",
       "      <td>0.023</td>\n",
       "    </tr>\n",
       "    <tr>\n",
       "      <th>72</th>\n",
       "      <td>MoSold</td>\n",
       "      <td>-0.0049</td>\n",
       "      <td>0.010</td>\n",
       "      <td>-0.483</td>\n",
       "      <td>0.630</td>\n",
       "      <td>-0.025</td>\n",
       "      <td>0.015</td>\n",
       "    </tr>\n",
       "    <tr>\n",
       "      <th>75</th>\n",
       "      <td>ExterCond_Ex</td>\n",
       "      <td>0.0340</td>\n",
       "      <td>0.217</td>\n",
       "      <td>0.157</td>\n",
       "      <td>0.876</td>\n",
       "      <td>-0.393</td>\n",
       "      <td>0.461</td>\n",
       "    </tr>\n",
       "    <tr>\n",
       "      <th>76</th>\n",
       "      <td>Exterior_WdShing</td>\n",
       "      <td>0.1223</td>\n",
       "      <td>0.080</td>\n",
       "      <td>1.532</td>\n",
       "      <td>0.126</td>\n",
       "      <td>-0.034</td>\n",
       "      <td>0.279</td>\n",
       "    </tr>\n",
       "  </tbody>\n",
       "</table>\n",
       "</div>"
      ],
      "text/plain": [
       "                 name    coef  std err  t value  p value  2.5% confidence  \\\n",
       "14       TotRmsAbvGrd  0.0245    0.020    1.200    0.230           -0.016   \n",
       "15      ExterQual_Avg  0.0283    0.038    0.742    0.458           -0.047   \n",
       "19        NeighType_2 -0.1776    0.106   -1.676    0.094           -0.386   \n",
       "21       MSZoning_Oth  0.0582    0.035    1.642    0.101           -0.011   \n",
       "24         MasVnrArea  0.0221    0.015    1.505    0.133           -0.007   \n",
       "27       ExterQual_Gd  0.0177    0.030    0.587    0.558           -0.042   \n",
       "28   BsmtFinType1_GLQ  0.0250    0.034    0.729    0.466           -0.042   \n",
       "33        OpenPorchSF -0.0013    0.011   -0.116    0.907           -0.023   \n",
       "36  Foundation_CBlock  0.0423    0.029    1.448    0.148           -0.015   \n",
       "38     Foundation_Oth  0.0010    0.032    0.031    0.975           -0.062   \n",
       "39     MasVnrType_Oth  0.0047    0.044    0.105    0.916           -0.082   \n",
       "42     Electrical_Yes -0.0202    0.042   -0.487    0.627           -0.102   \n",
       "43           2Story_Y -0.0364    0.043   -0.845    0.399           -0.121   \n",
       "45       LotShape_IR1 -0.0071    0.038   -0.184    0.854           -0.082   \n",
       "46       LotShape_Reg -0.0258    0.038   -0.682    0.496           -0.100   \n",
       "47       BldgType_Oth  0.0481    0.034    1.399    0.162           -0.019   \n",
       "48        NeighType_3 -0.0076    0.102   -0.074    0.941           -0.207   \n",
       "50          Fence_Yes -0.0052    0.028   -0.186    0.852           -0.060   \n",
       "54       ExterCond_Gd  0.0615    0.105    0.588    0.556           -0.144   \n",
       "55       LotShape_IR3  0.1080    0.093    1.165    0.245           -0.074   \n",
       "56   MasVnrType_Brick -0.0232    0.032   -0.717    0.473           -0.087   \n",
       "57   BsmtFinType1_BLQ -0.0061    0.037   -0.166    0.868           -0.078   \n",
       "59   BsmtFinType1_Rec  0.0336    0.039    0.853    0.394           -0.044   \n",
       "60      ExterCond_Avg  0.1217    0.104    1.170    0.242           -0.082   \n",
       "61   BsmtFinType1_ALQ  0.0072    0.034    0.213    0.831           -0.059   \n",
       "65       BedroomAbvGr -0.0013    0.012   -0.105    0.916           -0.025   \n",
       "72             MoSold -0.0049    0.010   -0.483    0.630           -0.025   \n",
       "75       ExterCond_Ex  0.0340    0.217    0.157    0.876           -0.393   \n",
       "76   Exterior_WdShing  0.1223    0.080    1.532    0.126           -0.034   \n",
       "\n",
       "    97.5% confidence  \n",
       "14             0.064  \n",
       "15             0.103  \n",
       "19             0.030  \n",
       "21             0.128  \n",
       "24             0.051  \n",
       "27             0.077  \n",
       "28             0.092  \n",
       "33             0.020  \n",
       "36             0.100  \n",
       "38             0.064  \n",
       "39             0.091  \n",
       "42             0.061  \n",
       "43             0.048  \n",
       "45             0.068  \n",
       "46             0.048  \n",
       "47             0.116  \n",
       "48             0.192  \n",
       "50             0.050  \n",
       "54             0.267  \n",
       "55             0.290  \n",
       "56             0.040  \n",
       "57             0.066  \n",
       "59             0.111  \n",
       "60             0.326  \n",
       "61             0.074  \n",
       "65             0.023  \n",
       "72             0.015  \n",
       "75             0.461  \n",
       "76             0.279  "
      ]
     },
     "execution_count": 92,
     "metadata": {},
     "output_type": "execute_result"
    }
   ],
   "source": [
    "table[table['p value']>=0.05] # those coefficients with 0 lying in their CIs"
   ]
  },
  {
   "cell_type": "code",
   "execution_count": 98,
   "metadata": {},
   "outputs": [],
   "source": [
    "# ones with really bad p-vals that I can't use in app are:\n",
    "# MoSold -> this should have been dummy var\n",
    "# MoSold, BsmtFinType1_ALQ, BsmtFinType1_Rec, BsmtFinType1_BLQ, LotShape_IR1,\n",
    "# Electrical_Yes, MasVnrType_Oth, Foundation_Oth\n",
    "# Remove these ones ..."
   ]
  },
  {
   "cell_type": "code",
   "execution_count": 23,
   "metadata": {},
   "outputs": [],
   "source": [
    "X = X.drop(['MoSold', 'BsmtFinType1_ALQ', 'BsmtFinType1_Rec', 'BsmtFinType1_BLQ', \\\n",
    "           'LotShape_IR1', 'Electrical_Yes', 'MasVnrType_Oth', 'Foundation_Oth'], axis=1)"
   ]
  },
  {
   "cell_type": "code",
   "execution_count": 24,
   "metadata": {},
   "outputs": [
    {
     "name": "stdout",
     "output_type": "stream",
     "text": [
      "<class 'pandas.core.frame.DataFrame'>\n",
      "RangeIndex: 1389 entries, 0 to 1388\n",
      "Data columns (total 70 columns):\n",
      " #   Column             Non-Null Count  Dtype  \n",
      "---  ------             --------------  -----  \n",
      " 0   GrLivArea          1389 non-null   float64\n",
      " 1   OverallQual        1389 non-null   float64\n",
      " 2   NeighType_4        1389 non-null   int64  \n",
      " 3   Baths              1389 non-null   float64\n",
      " 4   BsmtQual_Avg       1389 non-null   int64  \n",
      " 5   GarageArea         1389 non-null   float64\n",
      " 6   YearRemodAdd       1389 non-null   float64\n",
      " 7   NeighType_1        1389 non-null   int64  \n",
      " 8   Fireplaces         1389 non-null   float64\n",
      " 9   TotalBsmtSF        1389 non-null   float64\n",
      " 10  Foundation_PConc   1389 non-null   int64  \n",
      " 11  KitchenQual_Gd     1389 non-null   int64  \n",
      " 12  Exterior_BrkComm   1389 non-null   int64  \n",
      " 13  TotRmsAbvGrd       1389 non-null   float64\n",
      " 14  ExterQual_Avg      1389 non-null   int64  \n",
      " 15  BsmtFinSF          1389 non-null   float64\n",
      " 16  CentralAir_Yes     1389 non-null   int64  \n",
      " 17  KitchenQual_Avg    1389 non-null   int64  \n",
      " 18  NeighType_2        1389 non-null   int64  \n",
      " 19  BsmtExposure_Yes   1389 non-null   int64  \n",
      " 20  MSZoning_Oth       1389 non-null   int64  \n",
      " 21  LotFrontage        1389 non-null   float64\n",
      " 22  ExterQual_Ex       1389 non-null   int64  \n",
      " 23  MasVnrArea         1389 non-null   float64\n",
      " 24  WoodDeckSF         1389 non-null   float64\n",
      " 25  RoadRail_Yes       1389 non-null   int64  \n",
      " 26  ExterQual_Gd       1389 non-null   int64  \n",
      " 27  BsmtFinType1_GLQ   1389 non-null   int64  \n",
      " 28  Exterior_VinylSd   1389 non-null   int64  \n",
      " 29  HeatingQC_Avg      1389 non-null   int64  \n",
      " 30  MSZoning_RL        1389 non-null   int64  \n",
      " 31  HeatingQC_Gd       1389 non-null   int64  \n",
      " 32  OpenPorchSF        1389 non-null   float64\n",
      " 33  GarageType_Oth     1389 non-null   int64  \n",
      " 34  LotShape_IR2       1389 non-null   int64  \n",
      " 35  Foundation_CBlock  1389 non-null   int64  \n",
      " 36  PavedDrive_Yes     1389 non-null   int64  \n",
      " 37  BldgType_1Fam      1389 non-null   int64  \n",
      " 38  GarageType_Attchd  1389 non-null   int64  \n",
      " 39  2Story_Y           1389 non-null   int64  \n",
      " 40  BsmtQual_Gd        1389 non-null   int64  \n",
      " 41  LotShape_Reg       1389 non-null   int64  \n",
      " 42  BldgType_Oth       1389 non-null   int64  \n",
      " 43  NeighType_3        1389 non-null   int64  \n",
      " 44  RoofStyle_Oth      1389 non-null   int64  \n",
      " 45  Fence_Yes          1389 non-null   int64  \n",
      " 46  RoofStyle_Gable    1389 non-null   int64  \n",
      " 47  OverallCond        1389 non-null   float64\n",
      " 48  BsmtFinType1_LwQ   1389 non-null   int64  \n",
      " 49  ExterCond_Gd       1389 non-null   int64  \n",
      " 50  LotShape_IR3       1389 non-null   int64  \n",
      " 51  MasVnrType_Brick   1389 non-null   int64  \n",
      " 52  Exterior_CemntBd   1389 non-null   int64  \n",
      " 53  ExterCond_Avg      1389 non-null   int64  \n",
      " 54  Exterior_HdBoard   1389 non-null   int64  \n",
      " 55  Exterior_Wd Sdng   1389 non-null   int64  \n",
      " 56  GarageType_None    1389 non-null   int64  \n",
      " 57  BedroomAbvGr       1389 non-null   float64\n",
      " 58  LandSlope_Oth      1389 non-null   int64  \n",
      " 59  LandSlope_Gtl      1389 non-null   int64  \n",
      " 60  LotConfig_Oth      1389 non-null   int64  \n",
      " 61  LotConfig_Inside   1389 non-null   int64  \n",
      " 62  Exterior_Other     1389 non-null   int64  \n",
      " 63  BsmtFinType1_None  1389 non-null   int64  \n",
      " 64  YrSold             1389 non-null   float64\n",
      " 65  Exterior_MetalSd   1389 non-null   int64  \n",
      " 66  ExterCond_Ex       1389 non-null   int64  \n",
      " 67  Exterior_WdShing   1389 non-null   int64  \n",
      " 68  LandContour_Oth    1389 non-null   int64  \n",
      " 69  LandContour_Lvl    1389 non-null   int64  \n",
      "dtypes: float64(16), int64(54)\n",
      "memory usage: 759.7 KB\n"
     ]
    }
   ],
   "source": [
    "X.info()"
   ]
  },
  {
   "cell_type": "code",
   "execution_count": 102,
   "metadata": {},
   "outputs": [],
   "source": [
    "path_to_write = '~/Desktop/Ames_ML_Project/Data/sorted_df_01_24_rev.csv'\n",
    "X.to_csv(path_to_write)"
   ]
  },
  {
   "cell_type": "code",
   "execution_count": 103,
   "metadata": {},
   "outputs": [],
   "source": [
    "# redo train_test split for final time before I do my stepwise model"
   ]
  },
  {
   "cell_type": "code",
   "execution_count": 25,
   "metadata": {},
   "outputs": [],
   "source": [
    "X_train, X_test, y_train, y_test = \\\n",
    "train_test_split(X, target_log, test_size=0.3, random_state=42)"
   ]
  },
  {
   "cell_type": "code",
   "execution_count": 26,
   "metadata": {},
   "outputs": [
    {
     "name": "stdout",
     "output_type": "stream",
     "text": [
      "R2 for train set: 0.912442\n",
      "--------------------------------------------------\n",
      "R2 for test set: 0.863333\n"
     ]
    }
   ],
   "source": [
    "ols = linear_model.LinearRegression()\n",
    "ols.fit(X_train, y_train)\n",
    "print('R2 for train set: %f' %ols.score(X_train, y_train))\n",
    "print('-'*50)\n",
    "print('R2 for test set: %f' %ols.score(X_test, y_test))"
   ]
  },
  {
   "cell_type": "code",
   "execution_count": 27,
   "metadata": {},
   "outputs": [],
   "source": [
    "from sklearn.metrics import mean_squared_error"
   ]
  },
  {
   "cell_type": "code",
   "execution_count": 132,
   "metadata": {},
   "outputs": [],
   "source": [
    "r2_train = []\n",
    "r2_test = []\n",
    "coefs_ols = []\n",
    "features_len = X.shape[1] #70 features\n",
    "\n",
    "for feature in range(1, features_len+1):\n",
    "    frame_train = X_train.iloc[:, :feature]\n",
    "    ols.fit(frame_train, y_train)\n",
    "    r2_train.append(ols.score(frame_train, y_train))\n",
    "    coefs_ols.append(ols.coef_)\n",
    "    \n",
    "    frame_test = X_test.iloc[:, :feature]\n",
    "    ols.fit(frame_test, y_test)\n",
    "    r2_test.append(ols.score(frame_test, y_test))"
   ]
  },
  {
   "cell_type": "code",
   "execution_count": 135,
   "metadata": {},
   "outputs": [
    {
     "data": {
      "text/plain": [
       "[<matplotlib.lines.Line2D at 0x7ff70cfe4b20>]"
      ]
     },
     "execution_count": 135,
     "metadata": {},
     "output_type": "execute_result"
    },
    {
     "data": {
      "image/png": "[encoded data removed]",
      "text/plain": [
       "<Figure size 720x360 with 1 Axes>"
      ]
     },
     "metadata": {},
     "output_type": "display_data"
    }
   ],
   "source": [
    "plt.plot(r2_train)\n",
    "plt.plot(r2_test)"
   ]
  },
  {
   "cell_type": "code",
   "execution_count": 136,
   "metadata": {},
   "outputs": [],
   "source": [
    "# 2 bumps in training data were: 'OverallCond' and 'ExterCondGd'\n",
    "# I will move those up to position 21-22"
   ]
  },
  {
   "cell_type": "code",
   "execution_count": 28,
   "metadata": {},
   "outputs": [],
   "source": [
    "cols = list(X)"
   ]
  },
  {
   "cell_type": "code",
   "execution_count": 29,
   "metadata": {},
   "outputs": [],
   "source": [
    "cols.insert(23, cols.pop(cols.index('OverallCond')))\n",
    "cols.insert(24, cols.pop(cols.index('ExterCond_Gd')))"
   ]
  },
  {
   "cell_type": "code",
   "execution_count": 30,
   "metadata": {},
   "outputs": [],
   "source": [
    "X = X.loc[:, cols]"
   ]
  },
  {
   "cell_type": "code",
   "execution_count": 159,
   "metadata": {},
   "outputs": [],
   "source": [
    "path_to_write = '~/Desktop/Ames_ML_Project/Data/sorted_df_01_24_rev2.csv'\n",
    "X.to_csv(path_to_write)"
   ]
  },
  {
   "cell_type": "code",
   "execution_count": null,
   "metadata": {},
   "outputs": [],
   "source": []
  },
  {
   "cell_type": "code",
   "execution_count": 160,
   "metadata": {},
   "outputs": [],
   "source": [
    "# X is now the properly prioritized reordered dataframe - will run\n",
    "# the numbers again to get the right coefficients"
   ]
  },
  {
   "cell_type": "code",
   "execution_count": 48,
   "metadata": {},
   "outputs": [],
   "source": [
    "X_train, X_test, y_train, y_test = \\\n",
    "train_test_split(X, target_log, test_size=0.3, random_state=42)"
   ]
  },
  {
   "cell_type": "code",
   "execution_count": 49,
   "metadata": {},
   "outputs": [
    {
     "name": "stdout",
     "output_type": "stream",
     "text": [
      "R2 for train set: 0.912442\n",
      "--------------------------------------------------\n",
      "R2 for test set: 0.863333\n"
     ]
    }
   ],
   "source": [
    "ols = linear_model.LinearRegression()\n",
    "ols.fit(X_train, y_train)\n",
    "print('R2 for train set: %f' %ols.score(X_train, y_train))\n",
    "print('-'*50)\n",
    "print('R2 for test set: %f' %ols.score(X_test, y_test))"
   ]
  },
  {
   "cell_type": "code",
   "execution_count": 35,
   "metadata": {},
   "outputs": [],
   "source": [
    "r2_train = []\n",
    "r2_test = []\n",
    "coefs_ols = []\n",
    "intercept_ols= []\n",
    "features_len = X.shape[1] #70 features\n",
    "\n",
    "for feature in range(1, features_len+1):\n",
    "    frame_train = X_train.iloc[:, :feature]\n",
    "    ols.fit(frame_train, y_train)    \n",
    "    r2_train.append(ols.score(frame_train, y_train))\n",
    "    coefs_ols.append(ols.coef_)\n",
    "    intercept_ols.append(ols.intercept_)\n",
    "    \n",
    "    frame_test = X_test.iloc[:, :feature]\n",
    "    ols.fit(frame_test, y_test)\n",
    "    r2_test.append(ols.score(frame_test, y_test))"
   ]
  },
  {
   "cell_type": "code",
   "execution_count": 28,
   "metadata": {},
   "outputs": [
    {
     "data": {
      "image/png": "[encoded data removed]",
      "text/plain": [
       "<Figure size 576x360 with 1 Axes>"
      ]
     },
     "metadata": {},
     "output_type": "display_data"
    }
   ],
   "source": [
    "fig, ax = plt.subplots(figsize=(8,5))\n",
    "ax.plot(r2_train, '-b', label='Train')\n",
    "ax.plot(r2_test, '--r', label='Test')\n",
    "ax.tick_params(axis='y', labelsize=12)\n",
    "ax.set_ylabel(\"R2\", fontsize=12)\n",
    "ax.set_xlabel(\"# of Features\", fontsize=12)\n",
    "ax.set_title('Step-Wise R2 for Linear Regression', fontsize=14)\n",
    "leg = ax.legend()"
   ]
  },
  {
   "cell_type": "code",
   "execution_count": 27,
   "metadata": {},
   "outputs": [],
   "source": [
    "len(r2_test)\n",
    "jump = []\n",
    "\n",
    "for i in range(1, len(r2_test)-1):\n",
    "    jump.append(r2_test[i] - r2_test[i-1])"
   ]
  },
  {
   "cell_type": "code",
   "execution_count": 180,
   "metadata": {},
   "outputs": [
    {
     "data": {
      "text/plain": [
       "[<matplotlib.lines.Line2D at 0x7ff708dc56a0>]"
      ]
     },
     "execution_count": 180,
     "metadata": {},
     "output_type": "execute_result"
    },
    {
     "data": {
      "image/png": "[encoded data removed]",
      "text/plain": [
       "<Figure size 720x360 with 1 Axes>"
      ]
     },
     "metadata": {},
     "output_type": "display_data"
    }
   ],
   "source": [
    "plt.plot(jump)"
   ]
  },
  {
   "cell_type": "code",
   "execution_count": 38,
   "metadata": {},
   "outputs": [
    {
     "data": {
      "text/plain": [
       "[<matplotlib.lines.Line2D at 0x7f8b25c52430>]"
      ]
     },
     "execution_count": 38,
     "metadata": {},
     "output_type": "execute_result"
    },
    {
     "data": {
      "image/png": "[encoded data removed]",
      "text/plain": [
       "<Figure size 432x288 with 1 Axes>"
      ]
     },
     "metadata": {},
     "output_type": "display_data"
    }
   ],
   "source": [
    "plt.plot(intercept_ols[:40])"
   ]
  },
  {
   "cell_type": "code",
   "execution_count": 36,
   "metadata": {},
   "outputs": [
    {
     "name": "stdout",
     "output_type": "stream",
     "text": [
      "<class 'pandas.core.frame.DataFrame'>\n",
      "RangeIndex: 1389 entries, 0 to 1388\n",
      "Data columns (total 70 columns):\n",
      " #   Column             Non-Null Count  Dtype  \n",
      "---  ------             --------------  -----  \n",
      " 0   GrLivArea          1389 non-null   float64\n",
      " 1   OverallQual        1389 non-null   float64\n",
      " 2   NeighType_4        1389 non-null   int64  \n",
      " 3   Baths              1389 non-null   float64\n",
      " 4   BsmtQual_Avg       1389 non-null   int64  \n",
      " 5   GarageArea         1389 non-null   float64\n",
      " 6   YearRemodAdd       1389 non-null   float64\n",
      " 7   NeighType_1        1389 non-null   int64  \n",
      " 8   Fireplaces         1389 non-null   float64\n",
      " 9   TotalBsmtSF        1389 non-null   float64\n",
      " 10  Foundation_PConc   1389 non-null   int64  \n",
      " 11  KitchenQual_Gd     1389 non-null   int64  \n",
      " 12  Exterior_BrkComm   1389 non-null   int64  \n",
      " 13  TotRmsAbvGrd       1389 non-null   float64\n",
      " 14  ExterQual_Avg      1389 non-null   int64  \n",
      " 15  BsmtFinSF          1389 non-null   float64\n",
      " 16  CentralAir_Yes     1389 non-null   int64  \n",
      " 17  KitchenQual_Avg    1389 non-null   int64  \n",
      " 18  NeighType_2        1389 non-null   int64  \n",
      " 19  BsmtExposure_Yes   1389 non-null   int64  \n",
      " 20  MSZoning_Oth       1389 non-null   int64  \n",
      " 21  LotFrontage        1389 non-null   float64\n",
      " 22  ExterQual_Ex       1389 non-null   int64  \n",
      " 23  OverallCond        1389 non-null   float64\n",
      " 24  ExterCond_Gd       1389 non-null   int64  \n",
      " 25  MasVnrArea         1389 non-null   float64\n",
      " 26  WoodDeckSF         1389 non-null   float64\n",
      " 27  RoadRail_Yes       1389 non-null   int64  \n",
      " 28  ExterQual_Gd       1389 non-null   int64  \n",
      " 29  BsmtFinType1_GLQ   1389 non-null   int64  \n",
      " 30  Exterior_VinylSd   1389 non-null   int64  \n",
      " 31  HeatingQC_Avg      1389 non-null   int64  \n",
      " 32  MSZoning_RL        1389 non-null   int64  \n",
      " 33  HeatingQC_Gd       1389 non-null   int64  \n",
      " 34  OpenPorchSF        1389 non-null   float64\n",
      " 35  GarageType_Oth     1389 non-null   int64  \n",
      " 36  LotShape_IR2       1389 non-null   int64  \n",
      " 37  Foundation_CBlock  1389 non-null   int64  \n",
      " 38  PavedDrive_Yes     1389 non-null   int64  \n",
      " 39  BldgType_1Fam      1389 non-null   int64  \n",
      " 40  GarageType_Attchd  1389 non-null   int64  \n",
      " 41  2Story_Y           1389 non-null   int64  \n",
      " 42  BsmtQual_Gd        1389 non-null   int64  \n",
      " 43  LotShape_Reg       1389 non-null   int64  \n",
      " 44  BldgType_Oth       1389 non-null   int64  \n",
      " 45  NeighType_3        1389 non-null   int64  \n",
      " 46  RoofStyle_Oth      1389 non-null   int64  \n",
      " 47  Fence_Yes          1389 non-null   int64  \n",
      " 48  RoofStyle_Gable    1389 non-null   int64  \n",
      " 49  BsmtFinType1_LwQ   1389 non-null   int64  \n",
      " 50  LotShape_IR3       1389 non-null   int64  \n",
      " 51  MasVnrType_Brick   1389 non-null   int64  \n",
      " 52  Exterior_CemntBd   1389 non-null   int64  \n",
      " 53  ExterCond_Avg      1389 non-null   int64  \n",
      " 54  Exterior_HdBoard   1389 non-null   int64  \n",
      " 55  Exterior_Wd Sdng   1389 non-null   int64  \n",
      " 56  GarageType_None    1389 non-null   int64  \n",
      " 57  BedroomAbvGr       1389 non-null   float64\n",
      " 58  LandSlope_Oth      1389 non-null   int64  \n",
      " 59  LandSlope_Gtl      1389 non-null   int64  \n",
      " 60  LotConfig_Oth      1389 non-null   int64  \n",
      " 61  LotConfig_Inside   1389 non-null   int64  \n",
      " 62  Exterior_Other     1389 non-null   int64  \n",
      " 63  BsmtFinType1_None  1389 non-null   int64  \n",
      " 64  YrSold             1389 non-null   float64\n",
      " 65  Exterior_MetalSd   1389 non-null   int64  \n",
      " 66  ExterCond_Ex       1389 non-null   int64  \n",
      " 67  Exterior_WdShing   1389 non-null   int64  \n",
      " 68  LandContour_Oth    1389 non-null   int64  \n",
      " 69  LandContour_Lvl    1389 non-null   int64  \n",
      "dtypes: float64(16), int64(54)\n",
      "memory usage: 759.7 KB\n"
     ]
    }
   ],
   "source": [
    "X.info()"
   ]
  },
  {
   "cell_type": "code",
   "execution_count": 37,
   "metadata": {},
   "outputs": [],
   "source": [
    "Final_Features = X.iloc[:,:27]"
   ]
  },
  {
   "cell_type": "code",
   "execution_count": 38,
   "metadata": {},
   "outputs": [
    {
     "data": {
      "text/plain": [
       "['GrLivArea',\n",
       " 'OverallQual',\n",
       " 'NeighType_4',\n",
       " 'Baths',\n",
       " 'BsmtQual_Avg',\n",
       " 'GarageArea',\n",
       " 'YearRemodAdd',\n",
       " 'NeighType_1',\n",
       " 'Fireplaces',\n",
       " 'TotalBsmtSF',\n",
       " 'Foundation_PConc',\n",
       " 'KitchenQual_Gd',\n",
       " 'Exterior_BrkComm',\n",
       " 'TotRmsAbvGrd',\n",
       " 'ExterQual_Avg',\n",
       " 'BsmtFinSF',\n",
       " 'CentralAir_Yes',\n",
       " 'KitchenQual_Avg',\n",
       " 'NeighType_2',\n",
       " 'BsmtExposure_Yes',\n",
       " 'MSZoning_Oth',\n",
       " 'LotFrontage',\n",
       " 'ExterQual_Ex',\n",
       " 'OverallCond',\n",
       " 'ExterCond_Gd',\n",
       " 'MasVnrArea',\n",
       " 'WoodDeckSF']"
      ]
     },
     "execution_count": 38,
     "metadata": {},
     "output_type": "execute_result"
    }
   ],
   "source": [
    "list(Final_Features)"
   ]
  },
  {
   "cell_type": "code",
   "execution_count": 39,
   "metadata": {},
   "outputs": [
    {
     "data": {
      "text/plain": [
       "array([ 0.29362828,  0.22949327,  0.27038124,  0.04106493, -0.06235827,\n",
       "        0.08376297,  0.0795463 , -0.22288515,  0.06518951,  0.06739213,\n",
       "        0.14867649,  0.0188805 , -0.72689699,  0.00317966, -0.01544719,\n",
       "        0.09628666,  0.14814621, -0.0188805 , -0.14133924,  0.10388246,\n",
       "       -0.19727516,  0.08102362,  0.22793434,  0.08736934, -0.06128112,\n",
       "        0.02836532,  0.02803077])"
      ]
     },
     "execution_count": 39,
     "metadata": {},
     "output_type": "execute_result"
    }
   ],
   "source": [
    "#let's pull the coefficients now for the model - number 27-features\n",
    "coefs_ols[26]"
   ]
  },
  {
   "cell_type": "code",
   "execution_count": 40,
   "metadata": {},
   "outputs": [],
   "source": [
    "Final_Coefs = pd.Series(coefs_ols[26])"
   ]
  },
  {
   "cell_type": "code",
   "execution_count": 41,
   "metadata": {},
   "outputs": [],
   "source": [
    "Final_Intercept = pd.Series(intercept_ols[26])"
   ]
  },
  {
   "cell_type": "code",
   "execution_count": 42,
   "metadata": {},
   "outputs": [
    {
     "data": {
      "text/plain": [
       "0   -0.133382\n",
       "dtype: float64"
      ]
     },
     "execution_count": 42,
     "metadata": {},
     "output_type": "execute_result"
    }
   ],
   "source": [
    "Final_Intercept"
   ]
  },
  {
   "cell_type": "code",
   "execution_count": 43,
   "metadata": {},
   "outputs": [
    {
     "data": {
      "text/plain": [
       "0     0.293628\n",
       "1     0.229493\n",
       "2     0.270381\n",
       "3     0.041065\n",
       "4    -0.062358\n",
       "5     0.083763\n",
       "6     0.079546\n",
       "7    -0.222885\n",
       "8     0.065190\n",
       "9     0.067392\n",
       "10    0.148676\n",
       "11    0.018881\n",
       "12   -0.726897\n",
       "13    0.003180\n",
       "14   -0.015447\n",
       "15    0.096287\n",
       "16    0.148146\n",
       "17   -0.018881\n",
       "18   -0.141339\n",
       "19    0.103882\n",
       "20   -0.197275\n",
       "21    0.081024\n",
       "22    0.227934\n",
       "23    0.087369\n",
       "24   -0.061281\n",
       "25    0.028365\n",
       "26    0.028031\n",
       "dtype: float64"
      ]
     },
     "execution_count": 43,
     "metadata": {},
     "output_type": "execute_result"
    }
   ],
   "source": [
    "Final_Coefs"
   ]
  },
  {
   "cell_type": "code",
   "execution_count": 44,
   "metadata": {},
   "outputs": [
    {
     "data": {
      "text/plain": [
       "(27, 27)"
      ]
     },
     "execution_count": 44,
     "metadata": {},
     "output_type": "execute_result"
    }
   ],
   "source": [
    "len(list(Final_Features)), len(Final_Coefs)"
   ]
  },
  {
   "cell_type": "code",
   "execution_count": 45,
   "metadata": {},
   "outputs": [],
   "source": [
    "Final_Feature_lis = list(Final_Features)"
   ]
  },
  {
   "cell_type": "code",
   "execution_count": 46,
   "metadata": {},
   "outputs": [
    {
     "data": {
      "text/plain": [
       "(27, 27)"
      ]
     },
     "execution_count": 46,
     "metadata": {},
     "output_type": "execute_result"
    }
   ],
   "source": [
    "len(Final_Feature_lis), len(Final_Coefs)"
   ]
  },
  {
   "cell_type": "code",
   "execution_count": 72,
   "metadata": {},
   "outputs": [],
   "source": [
    "# want to add a column that is the median of each column\n",
    "medians = Final_Features.median(axis=0).tolist()\n",
    "means = Final_Features.mean(axis=0).tolist()"
   ]
  },
  {
   "cell_type": "code",
   "execution_count": 74,
   "metadata": {},
   "outputs": [],
   "source": [
    "X_output = pd.DataFrame({'Features': Final_Feature_lis, \\\n",
    "                        'Coefs': Final_Coefs, \\\n",
    "                        'Median_Vals': medians, \\\n",
    "                        'Mean_Vals': means})"
   ]
  },
  {
   "cell_type": "code",
   "execution_count": 75,
   "metadata": {},
   "outputs": [
    {
     "data": {
      "text/html": [
       "<div>\n",
       "<style scoped>\n",
       "    .dataframe tbody tr th:only-of-type {\n",
       "        vertical-align: middle;\n",
       "    }\n",
       "\n",
       "    .dataframe tbody tr th {\n",
       "        vertical-align: top;\n",
       "    }\n",
       "\n",
       "    .dataframe thead th {\n",
       "        text-align: right;\n",
       "    }\n",
       "</style>\n",
       "<table border=\"1\" class=\"dataframe\">\n",
       "  <thead>\n",
       "    <tr style=\"text-align: right;\">\n",
       "      <th></th>\n",
       "      <th>Features</th>\n",
       "      <th>Coefs</th>\n",
       "      <th>Median_Vals</th>\n",
       "      <th>Mean_Vals</th>\n",
       "    </tr>\n",
       "  </thead>\n",
       "  <tbody>\n",
       "    <tr>\n",
       "      <th>0</th>\n",
       "      <td>GrLivArea</td>\n",
       "      <td>0.293628</td>\n",
       "      <td>0.039405</td>\n",
       "      <td>6.536248e-16</td>\n",
       "    </tr>\n",
       "    <tr>\n",
       "      <th>2</th>\n",
       "      <td>NeighType_4</td>\n",
       "      <td>0.270381</td>\n",
       "      <td>0.000000</td>\n",
       "      <td>1.951044e-01</td>\n",
       "    </tr>\n",
       "    <tr>\n",
       "      <th>1</th>\n",
       "      <td>OverallQual</td>\n",
       "      <td>0.229493</td>\n",
       "      <td>-0.191125</td>\n",
       "      <td>-4.348174e-16</td>\n",
       "    </tr>\n",
       "    <tr>\n",
       "      <th>22</th>\n",
       "      <td>ExterQual_Ex</td>\n",
       "      <td>0.227934</td>\n",
       "      <td>0.000000</td>\n",
       "      <td>3.599712e-02</td>\n",
       "    </tr>\n",
       "    <tr>\n",
       "      <th>10</th>\n",
       "      <td>Foundation_PConc</td>\n",
       "      <td>0.148676</td>\n",
       "      <td>0.000000</td>\n",
       "      <td>4.499640e-01</td>\n",
       "    </tr>\n",
       "    <tr>\n",
       "      <th>16</th>\n",
       "      <td>CentralAir_Yes</td>\n",
       "      <td>0.148146</td>\n",
       "      <td>1.000000</td>\n",
       "      <td>9.416847e-01</td>\n",
       "    </tr>\n",
       "    <tr>\n",
       "      <th>19</th>\n",
       "      <td>BsmtExposure_Yes</td>\n",
       "      <td>0.103882</td>\n",
       "      <td>0.000000</td>\n",
       "      <td>3.210943e-01</td>\n",
       "    </tr>\n",
       "  </tbody>\n",
       "</table>\n",
       "</div>"
      ],
      "text/plain": [
       "            Features     Coefs  Median_Vals     Mean_Vals\n",
       "0          GrLivArea  0.293628     0.039405  6.536248e-16\n",
       "2        NeighType_4  0.270381     0.000000  1.951044e-01\n",
       "1        OverallQual  0.229493    -0.191125 -4.348174e-16\n",
       "22      ExterQual_Ex  0.227934     0.000000  3.599712e-02\n",
       "10  Foundation_PConc  0.148676     0.000000  4.499640e-01\n",
       "16    CentralAir_Yes  0.148146     1.000000  9.416847e-01\n",
       "19  BsmtExposure_Yes  0.103882     0.000000  3.210943e-01"
      ]
     },
     "execution_count": 75,
     "metadata": {},
     "output_type": "execute_result"
    }
   ],
   "source": [
    "X_output.sort_values(by='Coefs', ascending=False)[:7]\n",
    "\n",
    "# feature w/ positive impact on price: Size, Good Neigh, Quality,\n",
    "# Excellent Exter Qual, CentralAir"
   ]
  },
  {
   "cell_type": "code",
   "execution_count": 76,
   "metadata": {},
   "outputs": [
    {
     "data": {
      "text/html": [
       "<div>\n",
       "<style scoped>\n",
       "    .dataframe tbody tr th:only-of-type {\n",
       "        vertical-align: middle;\n",
       "    }\n",
       "\n",
       "    .dataframe tbody tr th {\n",
       "        vertical-align: top;\n",
       "    }\n",
       "\n",
       "    .dataframe thead th {\n",
       "        text-align: right;\n",
       "    }\n",
       "</style>\n",
       "<table border=\"1\" class=\"dataframe\">\n",
       "  <thead>\n",
       "    <tr style=\"text-align: right;\">\n",
       "      <th></th>\n",
       "      <th>Features</th>\n",
       "      <th>Coefs</th>\n",
       "      <th>Median_Vals</th>\n",
       "      <th>Mean_Vals</th>\n",
       "    </tr>\n",
       "  </thead>\n",
       "  <tbody>\n",
       "    <tr>\n",
       "      <th>12</th>\n",
       "      <td>Exterior_BrkComm</td>\n",
       "      <td>-0.726897</td>\n",
       "      <td>0.0</td>\n",
       "      <td>0.001440</td>\n",
       "    </tr>\n",
       "    <tr>\n",
       "      <th>7</th>\n",
       "      <td>NeighType_1</td>\n",
       "      <td>-0.222885</td>\n",
       "      <td>0.0</td>\n",
       "      <td>0.202304</td>\n",
       "    </tr>\n",
       "    <tr>\n",
       "      <th>20</th>\n",
       "      <td>MSZoning_Oth</td>\n",
       "      <td>-0.197275</td>\n",
       "      <td>0.0</td>\n",
       "      <td>0.203744</td>\n",
       "    </tr>\n",
       "    <tr>\n",
       "      <th>18</th>\n",
       "      <td>NeighType_2</td>\n",
       "      <td>-0.141339</td>\n",
       "      <td>0.0</td>\n",
       "      <td>0.285817</td>\n",
       "    </tr>\n",
       "    <tr>\n",
       "      <th>4</th>\n",
       "      <td>BsmtQual_Avg</td>\n",
       "      <td>-0.062358</td>\n",
       "      <td>0.0</td>\n",
       "      <td>0.460763</td>\n",
       "    </tr>\n",
       "    <tr>\n",
       "      <th>24</th>\n",
       "      <td>ExterCond_Gd</td>\n",
       "      <td>-0.061281</td>\n",
       "      <td>0.0</td>\n",
       "      <td>0.119510</td>\n",
       "    </tr>\n",
       "    <tr>\n",
       "      <th>17</th>\n",
       "      <td>KitchenQual_Avg</td>\n",
       "      <td>-0.018881</td>\n",
       "      <td>1.0</td>\n",
       "      <td>0.521958</td>\n",
       "    </tr>\n",
       "  </tbody>\n",
       "</table>\n",
       "</div>"
      ],
      "text/plain": [
       "            Features     Coefs  Median_Vals  Mean_Vals\n",
       "12  Exterior_BrkComm -0.726897          0.0   0.001440\n",
       "7        NeighType_1 -0.222885          0.0   0.202304\n",
       "20      MSZoning_Oth -0.197275          0.0   0.203744\n",
       "18       NeighType_2 -0.141339          0.0   0.285817\n",
       "4       BsmtQual_Avg -0.062358          0.0   0.460763\n",
       "24      ExterCond_Gd -0.061281          0.0   0.119510\n",
       "17   KitchenQual_Avg -0.018881          1.0   0.521958"
      ]
     },
     "execution_count": 76,
     "metadata": {},
     "output_type": "execute_result"
    }
   ],
   "source": [
    "X_output.sort_values(by='Coefs')[:7]\n",
    "\n",
    "# features w/ negative impact on price:\n",
    "## Exterior - Brick Common\n",
    "## MSZoning_Oth - this is all but Residential Low Density\n",
    "## so it's high-density and senior village"
   ]
  },
  {
   "cell_type": "code",
   "execution_count": 77,
   "metadata": {},
   "outputs": [],
   "source": [
    "path_to_write = '~/Desktop/Ames_ML_Project/Data/final_output_01_24.csv'\n",
    "X_output.to_csv(path_to_write)"
   ]
  },
  {
   "cell_type": "code",
   "execution_count": 79,
   "metadata": {},
   "outputs": [],
   "source": [
    "path_to_write = '~/Desktop/Ames_ML_Project/Data/final_output_intercept_01_24.csv'\n",
    "Final_Intercept.to_csv(path_to_write)"
   ]
  },
  {
   "cell_type": "code",
   "execution_count": 47,
   "metadata": {},
   "outputs": [],
   "source": [
    "path_to_write = '~/Desktop/Ames_ML_Project/Data/final_dataframe_01_24.csv'\n",
    "Final_Features.to_csv(path_to_write)"
   ]
  },
  {
   "cell_type": "code",
   "execution_count": 55,
   "metadata": {},
   "outputs": [
    {
     "name": "stdout",
     "output_type": "stream",
     "text": [
      "R2: 0.8861889511420706\n",
      "Intercept: -0.19383571681146508\n"
     ]
    }
   ],
   "source": [
    "# run to get residuals plots\n",
    "\n",
    "X4 = Final_Features.copy()\n",
    "\n",
    "reg = ols.fit(X4, target_log)    \n",
    "print('R2: {}'.format(ols.score(X4, target_log)))\n",
    "print('Intercept: {}'.format(ols.intercept_))\n",
    "\n",
    "predicts = reg.predict(X4)"
   ]
  },
  {
   "cell_type": "code",
   "execution_count": 57,
   "metadata": {},
   "outputs": [],
   "source": [
    "resids = predicts - target_log"
   ]
  },
  {
   "cell_type": "code",
   "execution_count": 66,
   "metadata": {},
   "outputs": [
    {
     "data": {
      "text/plain": [
       "Text(0.5, 1.0, 'Actuals vs Residuals')"
      ]
     },
     "execution_count": 66,
     "metadata": {},
     "output_type": "execute_result"
    },
    {
     "data": {
      "image/png": "[encoded data removed]",
      "text/plain": [
       "<Figure size 576x360 with 1 Axes>"
      ]
     },
     "metadata": {},
     "output_type": "display_data"
    }
   ],
   "source": [
    "fig, ax = plt.subplots(figsize=(8,5))\n",
    "ax.plot(resids, target_log, 'o', alpha=0.5)\n",
    "ax.set_xlim([-2,2])\n",
    "ax.set_ylim([-4,4])\n",
    "ax.set_ylabel(\"Actuals\", fontsize=12)\n",
    "ax.set_xlabel(\"Residuals\", fontsize=12)\n",
    "ax.set_title('Actuals vs Residuals', fontsize=14)"
   ]
  },
  {
   "cell_type": "code",
   "execution_count": 67,
   "metadata": {},
   "outputs": [
    {
     "data": {
      "text/plain": [
       "Text(0.5, 1.0, 'Histogram of Residuals')"
      ]
     },
     "execution_count": 67,
     "metadata": {},
     "output_type": "execute_result"
    },
    {
     "data": {
      "image/png": "[encoded data removed]",
      "text/plain": [
       "<Figure size 576x360 with 1 Axes>"
      ]
     },
     "metadata": {},
     "output_type": "display_data"
    }
   ],
   "source": [
    "fig, ax = plt.subplots(figsize=(8,5))\n",
    "plt.hist(resids, density=True, bins=30)\n",
    "ax.set_xlim([-2,2])\n",
    "ax.set_ylabel(\"Counts\", fontsize=12)\n",
    "ax.set_xlabel(\"Residuals\", fontsize=12)\n",
    "ax.set_title(\"Histogram of Residuals\", fontsize=12)"
   ]
  },
  {
   "cell_type": "code",
   "execution_count": 81,
   "metadata": {},
   "outputs": [
    {
     "data": {
      "text/plain": [
       "-1.1463566846571902"
      ]
     },
     "execution_count": 81,
     "metadata": {},
     "output_type": "execute_result"
    }
   ],
   "source": [
    "# need to remove the outliers and replot\n",
    "np.min(resids)"
   ]
  },
  {
   "cell_type": "code",
   "execution_count": 82,
   "metadata": {},
   "outputs": [
    {
     "data": {
      "text/plain": [
       "1389"
      ]
     },
     "execution_count": 82,
     "metadata": {},
     "output_type": "execute_result"
    }
   ],
   "source": [
    "len(resids)"
   ]
  },
  {
   "cell_type": "code",
   "execution_count": 84,
   "metadata": {},
   "outputs": [
    {
     "data": {
      "text/plain": [
       "1377"
      ]
     },
     "execution_count": 84,
     "metadata": {},
     "output_type": "execute_result"
    }
   ],
   "source": [
    "mean = np.mean(resids)\n",
    "std = np.std(resids)\n",
    "dist_mean = abs(resids - mean)\n",
    "max_devs = 3\n",
    "not_outlier = dist_mean < max_devs * std\n",
    "no_outliers = resids[not_outlier]\n",
    "len(no_outliers)"
   ]
  },
  {
   "cell_type": "code",
   "execution_count": 89,
   "metadata": {},
   "outputs": [
    {
     "data": {
      "image/png": "[encoded data removed]",
      "text/plain": [
       "<Figure size 432x288 with 1 Axes>"
      ]
     },
     "metadata": {},
     "output_type": "display_data"
    }
   ],
   "source": [
    "sm.qqplot(no_outliers)\n",
    "plt.title(\"QQ Plot of Residuals\")\n",
    "plt.show()"
   ]
  },
  {
   "cell_type": "code",
   "execution_count": null,
   "metadata": {},
   "outputs": [],
   "source": []
  }
 ],
 "metadata": {
  "kernelspec": {
   "display_name": "Python 3",
   "language": "python",
   "name": "python3"
  },
  "language_info": {
   "codemirror_mode": {
    "name": "ipython",
    "version": 3
   },
   "file_extension": ".py",
   "mimetype": "text/x-python",
   "name": "python",
   "nbconvert_exporter": "python",
   "pygments_lexer": "ipython3",
   "version": "3.8.3"
  }
 },
 "nbformat": 4,
 "nbformat_minor": 4
}
